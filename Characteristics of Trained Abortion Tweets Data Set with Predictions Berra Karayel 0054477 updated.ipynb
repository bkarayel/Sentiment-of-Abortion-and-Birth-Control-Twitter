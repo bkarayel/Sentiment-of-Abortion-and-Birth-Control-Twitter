{
 "cells": [
  {
   "cell_type": "markdown",
   "id": "2cfd43a3",
   "metadata": {},
   "source": [
    "### Characteristics of Trained Abortion Convention Tweets Data Set with Predictions"
   ]
  },
  {
   "cell_type": "markdown",
   "id": "c02bba9a",
   "metadata": {},
   "source": [
    "Berra Karayel 0054477"
   ]
  },
  {
   "cell_type": "code",
   "execution_count": 1,
   "id": "88ef257f",
   "metadata": {},
   "outputs": [],
   "source": [
    "import pandas as pd\n",
    "import numpy as np\n",
    "import matplotlib.pyplot as plt"
   ]
  },
  {
   "cell_type": "code",
   "execution_count": 2,
   "id": "cf3b0ec6",
   "metadata": {},
   "outputs": [
    {
     "data": {
      "text/html": [
       "<div>\n",
       "<style scoped>\n",
       "    .dataframe tbody tr th:only-of-type {\n",
       "        vertical-align: middle;\n",
       "    }\n",
       "\n",
       "    .dataframe tbody tr th {\n",
       "        vertical-align: top;\n",
       "    }\n",
       "\n",
       "    .dataframe thead th {\n",
       "        text-align: right;\n",
       "    }\n",
       "</style>\n",
       "<table border=\"1\" class=\"dataframe\">\n",
       "  <thead>\n",
       "    <tr style=\"text-align: right;\">\n",
       "      <th></th>\n",
       "      <th>Tweet</th>\n",
       "      <th>Predictions</th>\n",
       "    </tr>\n",
       "  </thead>\n",
       "  <tbody>\n",
       "    <tr>\n",
       "      <th>0</th>\n",
       "      <td>kürtaj konusunda kararım net. muhafazakarlarla...</td>\n",
       "      <td>neutral</td>\n",
       "    </tr>\n",
       "    <tr>\n",
       "      <th>1</th>\n",
       "      <td>@LilaGraceRose neden kürtaj ve son çaremi</td>\n",
       "      <td>neutral</td>\n",
       "    </tr>\n",
       "    <tr>\n",
       "      <th>2</th>\n",
       "      <td>Bilime de el attılar!!!\\n\\nİstanbul İl Emniyet...</td>\n",
       "      <td>neutral</td>\n",
       "    </tr>\n",
       "    <tr>\n",
       "      <th>3</th>\n",
       "      <td>#Radikal Kürtaj protestosu bariyeri aştı: Başb...</td>\n",
       "      <td>neutral</td>\n",
       "    </tr>\n",
       "    <tr>\n",
       "      <th>4</th>\n",
       "      <td>@Naptintugay Kürtaj yapılıyeah</td>\n",
       "      <td>neutral</td>\n",
       "    </tr>\n",
       "    <tr>\n",
       "      <th>5</th>\n",
       "      <td>NEDC gibi merkezler tüp bebek tedavisi sonucun...</td>\n",
       "      <td>neutral</td>\n",
       "    </tr>\n",
       "    <tr>\n",
       "      <th>6</th>\n",
       "      <td>‘Yasa dışı kürtaj’ soruşturmasında İstanbul Ad...</td>\n",
       "      <td>neutral</td>\n",
       "    </tr>\n",
       "    <tr>\n",
       "      <th>7</th>\n",
       "      <td>Tüm gereksiz insanlar doğmuş, bu saatten sonra...</td>\n",
       "      <td>neutral</td>\n",
       "    </tr>\n",
       "    <tr>\n",
       "      <th>8</th>\n",
       "      <td>Kürtaj\\nKürtaj isteyen kadınlar genellikle bun...</td>\n",
       "      <td>neutral</td>\n",
       "    </tr>\n",
       "    <tr>\n",
       "      <th>9</th>\n",
       "      <td>sezaryan-kürtaj-cinayet-uludere- bu nasıl bir ...</td>\n",
       "      <td>positive</td>\n",
       "    </tr>\n",
       "  </tbody>\n",
       "</table>\n",
       "</div>"
      ],
      "text/plain": [
       "                                               Tweet Predictions\n",
       "0  kürtaj konusunda kararım net. muhafazakarlarla...     neutral\n",
       "1          @LilaGraceRose neden kürtaj ve son çaremi     neutral\n",
       "2  Bilime de el attılar!!!\\n\\nİstanbul İl Emniyet...     neutral\n",
       "3  #Radikal Kürtaj protestosu bariyeri aştı: Başb...     neutral\n",
       "4                     @Naptintugay Kürtaj yapılıyeah     neutral\n",
       "5  NEDC gibi merkezler tüp bebek tedavisi sonucun...     neutral\n",
       "6  ‘Yasa dışı kürtaj’ soruşturmasında İstanbul Ad...     neutral\n",
       "7  Tüm gereksiz insanlar doğmuş, bu saatten sonra...     neutral\n",
       "8  Kürtaj\\nKürtaj isteyen kadınlar genellikle bun...     neutral\n",
       "9  sezaryan-kürtaj-cinayet-uludere- bu nasıl bir ...    positive"
      ]
     },
     "execution_count": 2,
     "metadata": {},
     "output_type": "execute_result"
    }
   ],
   "source": [
    "predictions = pd.read_csv(\"/Users/berrakarayel/Desktop/predictionsupdated.csv\")\n",
    "predictions.head(10)"
   ]
  },
  {
   "cell_type": "code",
   "execution_count": 3,
   "id": "b1e420ee",
   "metadata": {},
   "outputs": [
    {
     "data": {
      "text/plain": [
       "(204953, 2)"
      ]
     },
     "execution_count": 3,
     "metadata": {},
     "output_type": "execute_result"
    }
   ],
   "source": [
    "predictions.shape"
   ]
  },
  {
   "cell_type": "code",
   "execution_count": 4,
   "id": "89fd1ddc",
   "metadata": {},
   "outputs": [
    {
     "data": {
      "text/plain": [
       "Index(['Tweet', 'Predictions'], dtype='object')"
      ]
     },
     "execution_count": 4,
     "metadata": {},
     "output_type": "execute_result"
    }
   ],
   "source": [
    "predictions.columns"
   ]
  },
  {
   "cell_type": "code",
   "execution_count": 5,
   "id": "2421f29d",
   "metadata": {},
   "outputs": [],
   "source": [
    "predictions.rename(columns = {'Predictions':'Sentiment'}, inplace = True)"
   ]
  },
  {
   "cell_type": "code",
   "execution_count": 6,
   "id": "680ef5eb",
   "metadata": {},
   "outputs": [
    {
     "data": {
      "text/plain": [
       "Index(['Tweet', 'Sentiment'], dtype='object')"
      ]
     },
     "execution_count": 6,
     "metadata": {},
     "output_type": "execute_result"
    }
   ],
   "source": [
    "predictions.columns"
   ]
  },
  {
   "cell_type": "code",
   "execution_count": 7,
   "id": "544eac7e",
   "metadata": {},
   "outputs": [
    {
     "data": {
      "text/plain": [
       "0          neutral\n",
       "1          neutral\n",
       "2          neutral\n",
       "3          neutral\n",
       "4          neutral\n",
       "            ...   \n",
       "204948     neutral\n",
       "204949     neutral\n",
       "204950     neutral\n",
       "204951    positive\n",
       "204952     neutral\n",
       "Name: Sentiment, Length: 204953, dtype: object"
      ]
     },
     "execution_count": 7,
     "metadata": {},
     "output_type": "execute_result"
    }
   ],
   "source": [
    "predictions[\"Sentiment\"]"
   ]
  },
  {
   "cell_type": "code",
   "execution_count": 8,
   "id": "7dbfaf23",
   "metadata": {},
   "outputs": [
    {
     "data": {
      "image/png": "[encoded data removed]",
      "text/plain": [
       "<Figure size 640x480 with 1 Axes>"
      ]
     },
     "metadata": {},
     "output_type": "display_data"
    },
    {
     "data": {
      "text/plain": [
       "neutral     188544\n",
       "positive     10762\n",
       "negative      5647\n",
       "Name: Sentiment, dtype: int64"
      ]
     },
     "execution_count": 8,
     "metadata": {},
     "output_type": "execute_result"
    }
   ],
   "source": [
    "my_colors = ['pink','lightsteelblue','lightgreen']\n",
    "my_labels = ['Neutral','Positive','Negative']\n",
    "\n",
    "plt.pie(predictions['Sentiment'].value_counts(),labels= my_labels,autopct='%1.1f%%', colors=my_colors, shadow=True)\n",
    "plt.title(\"Figure 2.Sentiment of Tweets Related to Abortion After Training\")\n",
    "plt.legend(title = \"Sentiment:\")\n",
    "plt.show()\n",
    "predictions['Sentiment'].value_counts()"
   ]
  },
  {
   "cell_type": "code",
   "execution_count": null,
   "id": "5cda214f",
   "metadata": {},
   "outputs": [],
   "source": []
  }
 ],
 "metadata": {
  "kernelspec": {
   "display_name": "Python 3 (ipykernel)",
   "language": "python",
   "name": "python3"
  },
  "language_info": {
   "codemirror_mode": {
    "name": "ipython",
    "version": 3
   },
   "file_extension": ".py",
   "mimetype": "text/x-python",
   "name": "python",
   "nbconvert_exporter": "python",
   "pygments_lexer": "ipython3",
   "version": "3.8.8"
  }
 },
 "nbformat": 4,
 "nbformat_minor": 5
}
