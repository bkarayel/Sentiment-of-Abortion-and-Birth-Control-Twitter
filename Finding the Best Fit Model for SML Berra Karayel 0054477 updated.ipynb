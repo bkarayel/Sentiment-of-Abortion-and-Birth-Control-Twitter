{
 "cells": [
  {
   "cell_type": "markdown",
   "id": "6e78f0b6",
   "metadata": {},
   "source": [
    "### Finding the Best Fit Model for SML"
   ]
  },
  {
   "cell_type": "markdown",
   "id": "93f36b35",
   "metadata": {},
   "source": [
    "Berra Karayel 0054477"
   ]
  },
  {
   "cell_type": "code",
   "execution_count": 1,
   "id": "18d0823f",
   "metadata": {},
   "outputs": [],
   "source": [
    "import pandas as pd\n",
    "import numpy as np\n",
    "\n",
    "from sklearn.model_selection import train_test_split\n",
    "from sklearn.metrics import accuracy_score\n",
    "from sklearn.metrics import classification_report\n",
    "from sklearn.metrics import confusion_matrix\n",
    "from sklearn.feature_extraction.text import CountVectorizer"
   ]
  },
  {
   "cell_type": "code",
   "execution_count": 11,
   "id": "6691f96a",
   "metadata": {},
   "outputs": [],
   "source": [
    "preprocessed_abortion = pd.read_csv(\"/Users/berrakarayel/Desktop/abortion annotation preprocessedupdated 2.csv\")"
   ]
  },
  {
   "cell_type": "code",
   "execution_count": 12,
   "id": "44c83fee",
   "metadata": {},
   "outputs": [
    {
     "data": {
      "text/html": [
       "<div>\n",
       "<style scoped>\n",
       "    .dataframe tbody tr th:only-of-type {\n",
       "        vertical-align: middle;\n",
       "    }\n",
       "\n",
       "    .dataframe tbody tr th {\n",
       "        vertical-align: top;\n",
       "    }\n",
       "\n",
       "    .dataframe thead th {\n",
       "        text-align: right;\n",
       "    }\n",
       "</style>\n",
       "<table border=\"1\" class=\"dataframe\">\n",
       "  <thead>\n",
       "    <tr style=\"text-align: right;\">\n",
       "      <th></th>\n",
       "      <th>Unnamed: 0</th>\n",
       "      <th>number</th>\n",
       "      <th>date</th>\n",
       "      <th>id</th>\n",
       "      <th>Tweet</th>\n",
       "      <th>Sentiment</th>\n",
       "    </tr>\n",
       "  </thead>\n",
       "  <tbody>\n",
       "    <tr>\n",
       "      <th>0</th>\n",
       "      <td>0</td>\n",
       "      <td>1</td>\n",
       "      <td>2021-10-06 11:44:39+00:00</td>\n",
       "      <td>1.445717e+18</td>\n",
       "      <td>kürtaj konu karamak net muhafazakâr aynı saf o...</td>\n",
       "      <td>positive</td>\n",
       "    </tr>\n",
       "    <tr>\n",
       "      <th>1</th>\n",
       "      <td>1</td>\n",
       "      <td>2</td>\n",
       "      <td>2013-03-30 08:12:17+00:00</td>\n",
       "      <td>3.179122e+17</td>\n",
       "      <td>kürtaj son çare</td>\n",
       "      <td>neutral</td>\n",
       "    </tr>\n",
       "    <tr>\n",
       "      <th>2</th>\n",
       "      <td>2</td>\n",
       "      <td>3</td>\n",
       "      <td>2019-09-10 14:16:41+00:00</td>\n",
       "      <td>1.171427e+18</td>\n",
       "      <td>bilim demek el attıları̇stanbul i̇l emniyet mü...</td>\n",
       "      <td>neutral</td>\n",
       "    </tr>\n",
       "    <tr>\n",
       "      <th>3</th>\n",
       "      <td>3</td>\n",
       "      <td>4</td>\n",
       "      <td>2012-06-02 11:52:08+00:00</td>\n",
       "      <td>2.088887e+17</td>\n",
       "      <td>radikal kürtaj protesto bariyer aşti başbakan ...</td>\n",
       "      <td>neutral</td>\n",
       "    </tr>\n",
       "    <tr>\n",
       "      <th>4</th>\n",
       "      <td>4</td>\n",
       "      <td>5</td>\n",
       "      <td>2018-05-12 18:29:54+00:00</td>\n",
       "      <td>9.953705e+17</td>\n",
       "      <td>kürtaj yapiliyeah</td>\n",
       "      <td>neutral</td>\n",
       "    </tr>\n",
       "    <tr>\n",
       "      <th>5</th>\n",
       "      <td>5</td>\n",
       "      <td>6</td>\n",
       "      <td>2021-03-18 18:47:42+00:00</td>\n",
       "      <td>1.372621e+18</td>\n",
       "      <td>ned merkez tüp bebek tedavi sonuç kul donmak e...</td>\n",
       "      <td>neutral</td>\n",
       "    </tr>\n",
       "    <tr>\n",
       "      <th>6</th>\n",
       "      <td>6</td>\n",
       "      <td>7</td>\n",
       "      <td>2016-04-06 06:51:45+00:00</td>\n",
       "      <td>7.176057e+17</td>\n",
       "      <td>‘ yaş dişi kürtaj soruşturmak i̇stanbul adli t...</td>\n",
       "      <td>neutral</td>\n",
       "    </tr>\n",
       "    <tr>\n",
       "      <th>7</th>\n",
       "      <td>7</td>\n",
       "      <td>8</td>\n",
       "      <td>2012-11-11 21:53:11+00:00</td>\n",
       "      <td>2.677468e+17</td>\n",
       "      <td>gerek insan doğmak saat sonra kürtaj yasak olur</td>\n",
       "      <td>neutral</td>\n",
       "    </tr>\n",
       "    <tr>\n",
       "      <th>8</th>\n",
       "      <td>8</td>\n",
       "      <td>9</td>\n",
       "      <td>2013-11-21 11:06:40+00:00</td>\n",
       "      <td>4.034796e+17</td>\n",
       "      <td>kürtajkürtaj istemek kadın genellikle bun bir ...</td>\n",
       "      <td>neutral</td>\n",
       "    </tr>\n",
       "    <tr>\n",
       "      <th>9</th>\n",
       "      <td>9</td>\n",
       "      <td>10</td>\n",
       "      <td>2012-05-26 12:29:19+00:00</td>\n",
       "      <td>2.063614e+17</td>\n",
       "      <td>sezaryankürtajcınayetuludere bir kafa çalışmak...</td>\n",
       "      <td>positive</td>\n",
       "    </tr>\n",
       "  </tbody>\n",
       "</table>\n",
       "</div>"
      ],
      "text/plain": [
       "   Unnamed: 0  number                       date            id  \\\n",
       "0           0       1  2021-10-06 11:44:39+00:00  1.445717e+18   \n",
       "1           1       2  2013-03-30 08:12:17+00:00  3.179122e+17   \n",
       "2           2       3  2019-09-10 14:16:41+00:00  1.171427e+18   \n",
       "3           3       4  2012-06-02 11:52:08+00:00  2.088887e+17   \n",
       "4           4       5  2018-05-12 18:29:54+00:00  9.953705e+17   \n",
       "5           5       6  2021-03-18 18:47:42+00:00  1.372621e+18   \n",
       "6           6       7  2016-04-06 06:51:45+00:00  7.176057e+17   \n",
       "7           7       8  2012-11-11 21:53:11+00:00  2.677468e+17   \n",
       "8           8       9  2013-11-21 11:06:40+00:00  4.034796e+17   \n",
       "9           9      10  2012-05-26 12:29:19+00:00  2.063614e+17   \n",
       "\n",
       "                                               Tweet Sentiment  \n",
       "0  kürtaj konu karamak net muhafazakâr aynı saf o...  positive  \n",
       "1                                    kürtaj son çare   neutral  \n",
       "2  bilim demek el attıları̇stanbul i̇l emniyet mü...   neutral  \n",
       "3  radikal kürtaj protesto bariyer aşti başbakan ...   neutral  \n",
       "4                                  kürtaj yapiliyeah   neutral  \n",
       "5  ned merkez tüp bebek tedavi sonuç kul donmak e...   neutral  \n",
       "6  ‘ yaş dişi kürtaj soruşturmak i̇stanbul adli t...   neutral  \n",
       "7    gerek insan doğmak saat sonra kürtaj yasak olur   neutral  \n",
       "8  kürtajkürtaj istemek kadın genellikle bun bir ...   neutral  \n",
       "9  sezaryankürtajcınayetuludere bir kafa çalışmak...  positive  "
      ]
     },
     "execution_count": 12,
     "metadata": {},
     "output_type": "execute_result"
    }
   ],
   "source": [
    "preprocessed_abortion.head(10)"
   ]
  },
  {
   "cell_type": "code",
   "execution_count": 13,
   "id": "421555a3",
   "metadata": {},
   "outputs": [
    {
     "data": {
      "text/plain": [
       "(3000, 6)"
      ]
     },
     "execution_count": 13,
     "metadata": {},
     "output_type": "execute_result"
    }
   ],
   "source": [
    "preprocessed_abortion.shape"
   ]
  },
  {
   "cell_type": "code",
   "execution_count": 14,
   "id": "28a616e1",
   "metadata": {},
   "outputs": [
    {
     "data": {
      "text/plain": [
       "Unnamed: 0    False\n",
       "number        False\n",
       "date          False\n",
       "id            False\n",
       "Tweet         False\n",
       "Sentiment      True\n",
       "dtype: bool"
      ]
     },
     "execution_count": 14,
     "metadata": {},
     "output_type": "execute_result"
    }
   ],
   "source": [
    "preprocessed_abortion.isna().any()"
   ]
  },
  {
   "cell_type": "code",
   "execution_count": 15,
   "id": "6d42ce1b",
   "metadata": {},
   "outputs": [],
   "source": [
    "preprocessed_abortion = preprocessed_abortion.dropna()"
   ]
  },
  {
   "cell_type": "code",
   "execution_count": 16,
   "id": "104b79de",
   "metadata": {},
   "outputs": [
    {
     "data": {
      "text/plain": [
       "Unnamed: 0    False\n",
       "number        False\n",
       "date          False\n",
       "id            False\n",
       "Tweet         False\n",
       "Sentiment     False\n",
       "dtype: bool"
      ]
     },
     "execution_count": 16,
     "metadata": {},
     "output_type": "execute_result"
    }
   ],
   "source": [
    "preprocessed_abortion.isna().any()"
   ]
  },
  {
   "cell_type": "code",
   "execution_count": 17,
   "id": "eb743117",
   "metadata": {},
   "outputs": [
    {
     "data": {
      "text/plain": [
       "neutral     2071\n",
       "positive     564\n",
       "negative     364\n",
       "Name: Sentiment, dtype: int64"
      ]
     },
     "execution_count": 17,
     "metadata": {},
     "output_type": "execute_result"
    }
   ],
   "source": [
    "preprocessed_abortion[\"Sentiment\"].value_counts()"
   ]
  },
  {
   "cell_type": "code",
   "execution_count": 18,
   "id": "152ba435",
   "metadata": {},
   "outputs": [],
   "source": [
    "X = preprocessed_abortion[\"Tweet\"]\n",
    "y = preprocessed_abortion[\"Sentiment\"]"
   ]
  },
  {
   "cell_type": "code",
   "execution_count": 19,
   "id": "08bb2ee7",
   "metadata": {},
   "outputs": [
    {
     "data": {
      "text/plain": [
       "0       kürtaj konu karamak net muhafazakâr aynı saf o...\n",
       "1                                         kürtaj son çare\n",
       "2       bilim demek el attıları̇stanbul i̇l emniyet mü...\n",
       "3       radikal kürtaj protesto bariyer aşti başbakan ...\n",
       "4                                       kürtaj yapiliyeah\n",
       "                              ...                        \n",
       "2995    kürtaj hak filân değil evet se beden masum bir...\n",
       "2996               bah vallahi arar bura kürtaj yapıyoruz\n",
       "2997    bir kere ben aklî değil alkol yasak kürtaj yas...\n",
       "2998    aynı söz rte arkadan toplamak taktik yemek kon...\n",
       "2999    önce kendi sonra doçent kürtaj para verdi hürr...\n",
       "Name: Tweet, Length: 2999, dtype: object"
      ]
     },
     "execution_count": 19,
     "metadata": {},
     "output_type": "execute_result"
    }
   ],
   "source": [
    "X"
   ]
  },
  {
   "cell_type": "code",
   "execution_count": 20,
   "id": "749d6524",
   "metadata": {},
   "outputs": [
    {
     "data": {
      "text/plain": [
       "0       positive\n",
       "1        neutral\n",
       "2        neutral\n",
       "3        neutral\n",
       "4        neutral\n",
       "          ...   \n",
       "2995    negative\n",
       "2996     neutral\n",
       "2997     neutral\n",
       "2998     neutral\n",
       "2999     neutral\n",
       "Name: Sentiment, Length: 2999, dtype: object"
      ]
     },
     "execution_count": 20,
     "metadata": {},
     "output_type": "execute_result"
    }
   ],
   "source": [
    "y"
   ]
  },
  {
   "cell_type": "markdown",
   "id": "0e2c6c10",
   "metadata": {},
   "source": [
    "### CountVectorizer for text classification"
   ]
  },
  {
   "cell_type": "code",
   "execution_count": 21,
   "id": "a20b8709",
   "metadata": {},
   "outputs": [],
   "source": [
    "Xtrain, Xtest, ytrain, ytest = train_test_split(X, y,test_size=0.2,random_state=1)"
   ]
  },
  {
   "cell_type": "code",
   "execution_count": 22,
   "id": "0f1daba3",
   "metadata": {},
   "outputs": [],
   "source": [
    "count_vectorizer=CountVectorizer()"
   ]
  },
  {
   "cell_type": "code",
   "execution_count": 23,
   "id": "b766a793",
   "metadata": {},
   "outputs": [
    {
     "name": "stdout",
     "output_type": "stream",
     "text": [
      "Requirement already satisfied: scikit-learn in /Users/berrakarayel/opt/anaconda3/lib/python3.8/site-packages (0.24.1)\n",
      "Requirement already satisfied: numpy in /Users/berrakarayel/opt/anaconda3/lib/python3.8/site-packages (1.20.1)\n",
      "Requirement already satisfied: threadpoolctl>=2.0.0 in /Users/berrakarayel/opt/anaconda3/lib/python3.8/site-packages (from scikit-learn) (2.1.0)\n",
      "Requirement already satisfied: scipy>=0.19.1 in /Users/berrakarayel/opt/anaconda3/lib/python3.8/site-packages (from scikit-learn) (1.6.2)\n",
      "Requirement already satisfied: joblib>=0.11 in /Users/berrakarayel/opt/anaconda3/lib/python3.8/site-packages (from scikit-learn) (1.0.1)\n",
      "Note: you may need to restart the kernel to use updated packages.\n"
     ]
    }
   ],
   "source": [
    "pip install scikit-learn numpy"
   ]
  },
  {
   "cell_type": "code",
   "execution_count": 24,
   "id": "43ad9cea",
   "metadata": {},
   "outputs": [],
   "source": [
    "X, y = preprocessed_abortion.Tweet.fillna(' '), preprocessed_abortion.Sentiment"
   ]
  },
  {
   "cell_type": "code",
   "execution_count": 25,
   "id": "39ee15bf",
   "metadata": {},
   "outputs": [],
   "source": [
    "X_train=count_vectorizer.fit_transform(Xtrain)"
   ]
  },
  {
   "cell_type": "code",
   "execution_count": 26,
   "id": "089721ce",
   "metadata": {},
   "outputs": [],
   "source": [
    "X_test=count_vectorizer.transform(Xtest)"
   ]
  },
  {
   "cell_type": "code",
   "execution_count": 27,
   "id": "f03c72f1",
   "metadata": {},
   "outputs": [
    {
     "name": "stdout",
     "output_type": "stream",
     "text": [
      "['aaa', 'aaah', 'aabitürk', 'ab', 'abartmak', 'abazan', 'abd', 'abdampnın', 'abdkürtaj', 'abi']\n"
     ]
    }
   ],
   "source": [
    "print(count_vectorizer.get_feature_names()[:10])"
   ]
  },
  {
   "cell_type": "code",
   "execution_count": 28,
   "id": "1e9e128a",
   "metadata": {},
   "outputs": [],
   "source": [
    "count_df = pd.DataFrame(X_train.A, columns=count_vectorizer.get_feature_names())"
   ]
  },
  {
   "cell_type": "code",
   "execution_count": 29,
   "id": "77a069ad",
   "metadata": {},
   "outputs": [
    {
     "name": "stdout",
     "output_type": "stream",
     "text": [
      "   aaa  aaah  aabitürk  ab  abartmak  abazan  abd  abdampnın  abdkürtaj  abi  \\\n",
      "0    0     0         0   0         0       0    0          0          0    0   \n",
      "1    0     0         0   0         0       0    0          0          0    0   \n",
      "2    0     0         0   0         0       0    0          0          0    0   \n",
      "3    0     0         0   0         0       0    0          0          0    0   \n",
      "4    0     0         0   0         0       0    0          0          0    0   \n",
      "\n",
      "   ...  şubat  şunu  şura  şuur  şâhıs  şçi  şöhret  şükretmek  şık  ən  \n",
      "0  ...      0     0     0     0      0    0       0          0    0   0  \n",
      "1  ...      0     0     0     0      0    0       0          0    0   0  \n",
      "2  ...      0     0     0     0      0    0       0          0    0   0  \n",
      "3  ...      0     0     0     0      0    0       0          0    0   0  \n",
      "4  ...      0     0     0     0      0    0       0          0    0   0  \n",
      "\n",
      "[5 rows x 5450 columns]\n"
     ]
    }
   ],
   "source": [
    "print(count_df.head())"
   ]
  },
  {
   "cell_type": "markdown",
   "id": "d3178182",
   "metadata": {},
   "source": [
    "#### Support Vector Machine"
   ]
  },
  {
   "cell_type": "code",
   "execution_count": 30,
   "id": "fcdee667",
   "metadata": {},
   "outputs": [],
   "source": [
    "from sklearn.svm import SVC"
   ]
  },
  {
   "cell_type": "code",
   "execution_count": 21,
   "id": "4a209130",
   "metadata": {},
   "outputs": [
    {
     "name": "stdout",
     "output_type": "stream",
     "text": [
      "              precision    recall  f1-score   support\n",
      "\n",
      "    negative       0.92      0.15      0.26        81\n",
      "     neutral       0.72      0.99      0.83       417\n",
      "    positive       0.71      0.12      0.20       102\n",
      "\n",
      "    accuracy                           0.73       600\n",
      "   macro avg       0.78      0.42      0.43       600\n",
      "weighted avg       0.75      0.73      0.65       600\n",
      "\n"
     ]
    }
   ],
   "source": [
    "svm=SVC()\n",
    "svm.fit(X_train, ytrain)\n",
    "ypred2=svm.predict(X_test)\n",
    "accuracy_score(ytest,ypred2)\n",
    "print(classification_report(ytest,ypred2))"
   ]
  },
  {
   "cell_type": "markdown",
   "id": "5b2df9be",
   "metadata": {},
   "source": [
    "#### Logistic Regression"
   ]
  },
  {
   "cell_type": "code",
   "execution_count": 22,
   "id": "6ffea5b4",
   "metadata": {},
   "outputs": [],
   "source": [
    "from sklearn.linear_model import LogisticRegression\n",
    "from sklearn import linear_model"
   ]
  },
  {
   "cell_type": "code",
   "execution_count": 23,
   "id": "81a6455e",
   "metadata": {},
   "outputs": [
    {
     "name": "stdout",
     "output_type": "stream",
     "text": [
      "              precision    recall  f1-score   support\n",
      "\n",
      "    negative       0.67      0.38      0.49        81\n",
      "     neutral       0.80      0.92      0.86       417\n",
      "    positive       0.52      0.37      0.43       102\n",
      "\n",
      "    accuracy                           0.76       600\n",
      "   macro avg       0.66      0.56      0.59       600\n",
      "weighted avg       0.73      0.76      0.73       600\n",
      "\n"
     ]
    }
   ],
   "source": [
    "log_reg = linear_model.LogisticRegression()\n",
    "log_reg.fit(X_train,ytrain)\n",
    "y_pred=log_reg.predict(X_test)\n",
    "print(classification_report(ytest,y_pred))"
   ]
  },
  {
   "cell_type": "markdown",
   "id": "bd7ac4c1",
   "metadata": {},
   "source": [
    "#### Random Forest"
   ]
  },
  {
   "cell_type": "code",
   "execution_count": 24,
   "id": "430c82ce",
   "metadata": {},
   "outputs": [],
   "source": [
    "from sklearn.ensemble import RandomForestClassifier"
   ]
  },
  {
   "cell_type": "code",
   "execution_count": 25,
   "id": "1ed63d25",
   "metadata": {},
   "outputs": [
    {
     "name": "stdout",
     "output_type": "stream",
     "text": [
      "              precision    recall  f1-score   support\n",
      "\n",
      "    negative       0.75      0.30      0.42        81\n",
      "     neutral       0.75      0.96      0.84       417\n",
      "    positive       0.47      0.18      0.26       102\n",
      "\n",
      "    accuracy                           0.73       600\n",
      "   macro avg       0.66      0.48      0.51       600\n",
      "weighted avg       0.70      0.73      0.69       600\n",
      "\n"
     ]
    }
   ],
   "source": [
    "random_forest=RandomForestClassifier()\n",
    "random_forest.fit(X_train,ytrain)\n",
    "ypred1=random_forest.predict(X_test)\n",
    "print(classification_report(ytest,ypred1))"
   ]
  },
  {
   "cell_type": "markdown",
   "id": "c039bc54",
   "metadata": {},
   "source": [
    "#### K Nearest Neighbor (KNN)"
   ]
  },
  {
   "cell_type": "code",
   "execution_count": 26,
   "id": "0240c077",
   "metadata": {},
   "outputs": [],
   "source": [
    "from sklearn.neighbors import KNeighborsClassifier"
   ]
  },
  {
   "cell_type": "code",
   "execution_count": 27,
   "id": "f06b5e88",
   "metadata": {},
   "outputs": [
    {
     "name": "stdout",
     "output_type": "stream",
     "text": [
      "              precision    recall  f1-score   support\n",
      "\n",
      "    negative       0.45      0.31      0.37        81\n",
      "     neutral       0.75      0.91      0.82       417\n",
      "    positive       0.37      0.14      0.20       102\n",
      "\n",
      "    accuracy                           0.70       600\n",
      "   macro avg       0.52      0.45      0.46       600\n",
      "weighted avg       0.65      0.70      0.66       600\n",
      "\n"
     ]
    }
   ],
   "source": [
    "k_nearest = KNeighborsClassifier()\n",
    "k_nearest.fit(X_train, ytrain)\n",
    "ypred3=k_nearest.predict(X_test)\n",
    "accuracy_score(ytest,ypred3)\n",
    "print(classification_report(ytest,ypred3))"
   ]
  },
  {
   "cell_type": "markdown",
   "id": "ab0e2074",
   "metadata": {},
   "source": [
    "#### Multinominal NB"
   ]
  },
  {
   "cell_type": "code",
   "execution_count": 28,
   "id": "78c79b50",
   "metadata": {},
   "outputs": [],
   "source": [
    "from sklearn.naive_bayes import MultinomialNB"
   ]
  },
  {
   "cell_type": "code",
   "execution_count": 29,
   "id": "5018ba8f",
   "metadata": {},
   "outputs": [
    {
     "name": "stdout",
     "output_type": "stream",
     "text": [
      "              precision    recall  f1-score   support\n",
      "\n",
      "    negative       0.73      0.27      0.40        81\n",
      "     neutral       0.76      0.94      0.84       417\n",
      "    positive       0.50      0.27      0.35       102\n",
      "\n",
      "    accuracy                           0.74       600\n",
      "   macro avg       0.67      0.50      0.53       600\n",
      "weighted avg       0.72      0.74      0.70       600\n",
      "\n"
     ]
    }
   ],
   "source": [
    "multi_nb=MultinomialNB()\n",
    "multi_nb.fit(X_train,ytrain)\n",
    "y_pred=multi_nb.predict(X_test)\n",
    "print(classification_report(ytest,y_pred))"
   ]
  }
 ],
 "metadata": {
  "kernelspec": {
   "display_name": "Python 3 (ipykernel)",
   "language": "python",
   "name": "python3"
  },
  "language_info": {
   "codemirror_mode": {
    "name": "ipython",
    "version": 3
   },
   "file_extension": ".py",
   "mimetype": "text/x-python",
   "name": "python",
   "nbconvert_exporter": "python",
   "pygments_lexer": "ipython3",
   "version": "3.8.8"
  }
 },
 "nbformat": 4,
 "nbformat_minor": 5
}
