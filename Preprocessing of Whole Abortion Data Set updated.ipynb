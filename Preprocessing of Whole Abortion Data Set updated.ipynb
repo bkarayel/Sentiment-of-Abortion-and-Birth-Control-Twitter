{
 "cells": [
  {
   "cell_type": "markdown",
   "id": "65e9e2d9",
   "metadata": {},
   "source": [
    "### Preprocessing of the Whole Abortion Data set"
   ]
  },
  {
   "cell_type": "code",
   "execution_count": 3,
   "id": "e1eebd6f",
   "metadata": {},
   "outputs": [],
   "source": [
    "import pandas as pd\n",
    "import numpy as np"
   ]
  },
  {
   "cell_type": "code",
   "execution_count": 4,
   "id": "8cc87902",
   "metadata": {},
   "outputs": [
    {
     "data": {
      "text/html": [
       "<div>\n",
       "<style scoped>\n",
       "    .dataframe tbody tr th:only-of-type {\n",
       "        vertical-align: middle;\n",
       "    }\n",
       "\n",
       "    .dataframe tbody tr th {\n",
       "        vertical-align: top;\n",
       "    }\n",
       "\n",
       "    .dataframe thead th {\n",
       "        text-align: right;\n",
       "    }\n",
       "</style>\n",
       "<table border=\"1\" class=\"dataframe\">\n",
       "  <thead>\n",
       "    <tr style=\"text-align: right;\">\n",
       "      <th></th>\n",
       "      <th>Unnamed: 0</th>\n",
       "      <th>date</th>\n",
       "      <th>Tweet</th>\n",
       "      <th>id</th>\n",
       "    </tr>\n",
       "  </thead>\n",
       "  <tbody>\n",
       "    <tr>\n",
       "      <th>0</th>\n",
       "      <td>43105</td>\n",
       "      <td>2019-09-12 15:02:56+00:00</td>\n",
       "      <td>Emniyet kürtaj listesi kararında geri adım att...</td>\n",
       "      <td>1.172164e+18</td>\n",
       "    </tr>\n",
       "    <tr>\n",
       "      <th>1</th>\n",
       "      <td>117554</td>\n",
       "      <td>2013-06-18 19:02:26+00:00</td>\n",
       "      <td>Hoop başa döndük yine: Kürtaj emselesi topu ta...</td>\n",
       "      <td>3.470668e+17</td>\n",
       "    </tr>\n",
       "    <tr>\n",
       "      <th>2</th>\n",
       "      <td>144147</td>\n",
       "      <td>2012-06-20 23:30:32+00:00</td>\n",
       "      <td>Akp bizleri çözmüş:( Kürtaj konusunun suni gün...</td>\n",
       "      <td>2.155875e+17</td>\n",
       "    </tr>\n",
       "    <tr>\n",
       "      <th>3</th>\n",
       "      <td>169204</td>\n",
       "      <td>2012-06-01 21:28:04+00:00</td>\n",
       "      <td>Biri çıkmış kürtaja karşıyız der.Diğeri siz ya...</td>\n",
       "      <td>2.086713e+17</td>\n",
       "    </tr>\n",
       "    <tr>\n",
       "      <th>4</th>\n",
       "      <td>70990</td>\n",
       "      <td>2017-04-29 18:37:32+00:00</td>\n",
       "      <td>@onuraydin_ @rehacam @Argostroloji Bu ülke de ...</td>\n",
       "      <td>8.583898e+17</td>\n",
       "    </tr>\n",
       "    <tr>\n",
       "      <th>5</th>\n",
       "      <td>100693</td>\n",
       "      <td>2014-03-13 23:50:06+00:00</td>\n",
       "      <td>@Fitonist Hastanelerde bilg sisteminden ulaşıl...</td>\n",
       "      <td>4.442591e+17</td>\n",
       "    </tr>\n",
       "    <tr>\n",
       "      <th>6</th>\n",
       "      <td>124613</td>\n",
       "      <td>2013-02-13 13:56:27+00:00</td>\n",
       "      <td>Kürtaj yasaklandıda #OrmanKesmekDemek neden ya...</td>\n",
       "      <td>3.016913e+17</td>\n",
       "    </tr>\n",
       "    <tr>\n",
       "      <th>7</th>\n",
       "      <td>90902</td>\n",
       "      <td>2014-12-27 21:27:17+00:00</td>\n",
       "      <td>\"\"her kürtaj bir uludere'dir\"e cevap veren kad...</td>\n",
       "      <td>5.489533e+17</td>\n",
       "    </tr>\n",
       "    <tr>\n",
       "      <th>8</th>\n",
       "      <td>79369</td>\n",
       "      <td>2016-04-06 14:57:48+00:00</td>\n",
       "      <td>Bir zamanlar kürtaj büyük günah, üç çocuktan a...</td>\n",
       "      <td>7.177280e+17</td>\n",
       "    </tr>\n",
       "    <tr>\n",
       "      <th>9</th>\n",
       "      <td>155104</td>\n",
       "      <td>2012-06-06 15:13:50+00:00</td>\n",
       "      <td>Erkekler Kürtaj Yasağına Karşı Sokağa http://t...</td>\n",
       "      <td>2.103890e+17</td>\n",
       "    </tr>\n",
       "  </tbody>\n",
       "</table>\n",
       "</div>"
      ],
      "text/plain": [
       "   Unnamed: 0                       date  \\\n",
       "0       43105  2019-09-12 15:02:56+00:00   \n",
       "1      117554  2013-06-18 19:02:26+00:00   \n",
       "2      144147  2012-06-20 23:30:32+00:00   \n",
       "3      169204  2012-06-01 21:28:04+00:00   \n",
       "4       70990  2017-04-29 18:37:32+00:00   \n",
       "5      100693  2014-03-13 23:50:06+00:00   \n",
       "6      124613  2013-02-13 13:56:27+00:00   \n",
       "7       90902  2014-12-27 21:27:17+00:00   \n",
       "8       79369  2016-04-06 14:57:48+00:00   \n",
       "9      155104  2012-06-06 15:13:50+00:00   \n",
       "\n",
       "                                               Tweet            id  \n",
       "0  Emniyet kürtaj listesi kararında geri adım att...  1.172164e+18  \n",
       "1  Hoop başa döndük yine: Kürtaj emselesi topu ta...  3.470668e+17  \n",
       "2  Akp bizleri çözmüş:( Kürtaj konusunun suni gün...  2.155875e+17  \n",
       "3  Biri çıkmış kürtaja karşıyız der.Diğeri siz ya...  2.086713e+17  \n",
       "4  @onuraydin_ @rehacam @Argostroloji Bu ülke de ...  8.583898e+17  \n",
       "5  @Fitonist Hastanelerde bilg sisteminden ulaşıl...  4.442591e+17  \n",
       "6  Kürtaj yasaklandıda #OrmanKesmekDemek neden ya...  3.016913e+17  \n",
       "7  \"\"her kürtaj bir uludere'dir\"e cevap veren kad...  5.489533e+17  \n",
       "8  Bir zamanlar kürtaj büyük günah, üç çocuktan a...  7.177280e+17  \n",
       "9  Erkekler Kürtaj Yasağına Karşı Sokağa http://t...  2.103890e+17  "
      ]
     },
     "execution_count": 4,
     "metadata": {},
     "output_type": "execute_result"
    }
   ],
   "source": [
    "abortion1 = pd.read_csv(\"/Users/berrakarayel/Desktop/kürtaj data set/kürtaj 1 ayrılmıs.csv\")\n",
    "abortion1.head(10)"
   ]
  },
  {
   "cell_type": "code",
   "execution_count": 5,
   "id": "d71e2678",
   "metadata": {},
   "outputs": [
    {
     "data": {
      "text/plain": [
       "(29999, 4)"
      ]
     },
     "execution_count": 5,
     "metadata": {},
     "output_type": "execute_result"
    }
   ],
   "source": [
    "abortion1.shape"
   ]
  },
  {
   "cell_type": "code",
   "execution_count": 6,
   "id": "ac00b187",
   "metadata": {},
   "outputs": [
    {
     "data": {
      "text/plain": [
       "Index(['Unnamed: 0', 'date', 'Tweet', 'id'], dtype='object')"
      ]
     },
     "execution_count": 6,
     "metadata": {},
     "output_type": "execute_result"
    }
   ],
   "source": [
    "abortion1.columns"
   ]
  },
  {
   "cell_type": "code",
   "execution_count": 8,
   "id": "32762d58",
   "metadata": {},
   "outputs": [],
   "source": [
    "abortion1.rename(columns = {'rawContent':'Tweet'}, inplace = True)"
   ]
  },
  {
   "cell_type": "code",
   "execution_count": 9,
   "id": "76d657a0",
   "metadata": {},
   "outputs": [
    {
     "data": {
      "text/plain": [
       "Index(['Unnamed: 0', 'date', 'Tweet', 'id'], dtype='object')"
      ]
     },
     "execution_count": 9,
     "metadata": {},
     "output_type": "execute_result"
    }
   ],
   "source": [
    "abortion1.columns"
   ]
  },
  {
   "cell_type": "code",
   "execution_count": 11,
   "id": "2644e168",
   "metadata": {},
   "outputs": [],
   "source": [
    "import re"
   ]
  },
  {
   "cell_type": "code",
   "execution_count": 12,
   "id": "e4a00a29",
   "metadata": {},
   "outputs": [
    {
     "data": {
      "text/html": [
       "<div>\n",
       "<style scoped>\n",
       "    .dataframe tbody tr th:only-of-type {\n",
       "        vertical-align: middle;\n",
       "    }\n",
       "\n",
       "    .dataframe tbody tr th {\n",
       "        vertical-align: top;\n",
       "    }\n",
       "\n",
       "    .dataframe thead th {\n",
       "        text-align: right;\n",
       "    }\n",
       "</style>\n",
       "<table border=\"1\" class=\"dataframe\">\n",
       "  <thead>\n",
       "    <tr style=\"text-align: right;\">\n",
       "      <th></th>\n",
       "      <th>Unnamed: 0</th>\n",
       "      <th>date</th>\n",
       "      <th>Tweet</th>\n",
       "      <th>id</th>\n",
       "    </tr>\n",
       "  </thead>\n",
       "  <tbody>\n",
       "    <tr>\n",
       "      <th>0</th>\n",
       "      <td>43105</td>\n",
       "      <td>2019-09-12 15:02:56+00:00</td>\n",
       "      <td>emniyet kürtaj listesi kararında geri adım att...</td>\n",
       "      <td>1.172164e+18</td>\n",
       "    </tr>\n",
       "    <tr>\n",
       "      <th>1</th>\n",
       "      <td>117554</td>\n",
       "      <td>2013-06-18 19:02:26+00:00</td>\n",
       "      <td>hoop başa döndük yine: kürtaj emselesi topu ta...</td>\n",
       "      <td>3.470668e+17</td>\n",
       "    </tr>\n",
       "    <tr>\n",
       "      <th>2</th>\n",
       "      <td>144147</td>\n",
       "      <td>2012-06-20 23:30:32+00:00</td>\n",
       "      <td>akp bizleri çözmüş:( kürtaj konusunun suni gün...</td>\n",
       "      <td>2.155875e+17</td>\n",
       "    </tr>\n",
       "    <tr>\n",
       "      <th>3</th>\n",
       "      <td>169204</td>\n",
       "      <td>2012-06-01 21:28:04+00:00</td>\n",
       "      <td>biri çıkmış kürtaja karşıyız der.diğeri siz ya...</td>\n",
       "      <td>2.086713e+17</td>\n",
       "    </tr>\n",
       "    <tr>\n",
       "      <th>4</th>\n",
       "      <td>70990</td>\n",
       "      <td>2017-04-29 18:37:32+00:00</td>\n",
       "      <td>@onuraydin_ @rehacam @argostroloji bu ülke de ...</td>\n",
       "      <td>8.583898e+17</td>\n",
       "    </tr>\n",
       "    <tr>\n",
       "      <th>5</th>\n",
       "      <td>100693</td>\n",
       "      <td>2014-03-13 23:50:06+00:00</td>\n",
       "      <td>@fitonist hastanelerde bilg sisteminden ulaşıl...</td>\n",
       "      <td>4.442591e+17</td>\n",
       "    </tr>\n",
       "    <tr>\n",
       "      <th>6</th>\n",
       "      <td>124613</td>\n",
       "      <td>2013-02-13 13:56:27+00:00</td>\n",
       "      <td>kürtaj yasaklandıda #ormankesmekdemek neden ya...</td>\n",
       "      <td>3.016913e+17</td>\n",
       "    </tr>\n",
       "    <tr>\n",
       "      <th>7</th>\n",
       "      <td>90902</td>\n",
       "      <td>2014-12-27 21:27:17+00:00</td>\n",
       "      <td>\"\"her kürtaj bir uludere'dir\"e cevap veren kad...</td>\n",
       "      <td>5.489533e+17</td>\n",
       "    </tr>\n",
       "    <tr>\n",
       "      <th>8</th>\n",
       "      <td>79369</td>\n",
       "      <td>2016-04-06 14:57:48+00:00</td>\n",
       "      <td>bir zamanlar kürtaj büyük günah, üç çocuktan a...</td>\n",
       "      <td>7.177280e+17</td>\n",
       "    </tr>\n",
       "    <tr>\n",
       "      <th>9</th>\n",
       "      <td>155104</td>\n",
       "      <td>2012-06-06 15:13:50+00:00</td>\n",
       "      <td>erkekler kürtaj yasağına karşı sokağa http://t...</td>\n",
       "      <td>2.103890e+17</td>\n",
       "    </tr>\n",
       "  </tbody>\n",
       "</table>\n",
       "</div>"
      ],
      "text/plain": [
       "   Unnamed: 0                       date  \\\n",
       "0       43105  2019-09-12 15:02:56+00:00   \n",
       "1      117554  2013-06-18 19:02:26+00:00   \n",
       "2      144147  2012-06-20 23:30:32+00:00   \n",
       "3      169204  2012-06-01 21:28:04+00:00   \n",
       "4       70990  2017-04-29 18:37:32+00:00   \n",
       "5      100693  2014-03-13 23:50:06+00:00   \n",
       "6      124613  2013-02-13 13:56:27+00:00   \n",
       "7       90902  2014-12-27 21:27:17+00:00   \n",
       "8       79369  2016-04-06 14:57:48+00:00   \n",
       "9      155104  2012-06-06 15:13:50+00:00   \n",
       "\n",
       "                                               Tweet            id  \n",
       "0  emniyet kürtaj listesi kararında geri adım att...  1.172164e+18  \n",
       "1  hoop başa döndük yine: kürtaj emselesi topu ta...  3.470668e+17  \n",
       "2  akp bizleri çözmüş:( kürtaj konusunun suni gün...  2.155875e+17  \n",
       "3  biri çıkmış kürtaja karşıyız der.diğeri siz ya...  2.086713e+17  \n",
       "4  @onuraydin_ @rehacam @argostroloji bu ülke de ...  8.583898e+17  \n",
       "5  @fitonist hastanelerde bilg sisteminden ulaşıl...  4.442591e+17  \n",
       "6  kürtaj yasaklandıda #ormankesmekdemek neden ya...  3.016913e+17  \n",
       "7  \"\"her kürtaj bir uludere'dir\"e cevap veren kad...  5.489533e+17  \n",
       "8  bir zamanlar kürtaj büyük günah, üç çocuktan a...  7.177280e+17  \n",
       "9  erkekler kürtaj yasağına karşı sokağa http://t...  2.103890e+17  "
      ]
     },
     "execution_count": 12,
     "metadata": {},
     "output_type": "execute_result"
    }
   ],
   "source": [
    "abortion1['Tweet'] = [token.lower() for token in abortion1['Tweet']]\n",
    "abortion1.head(10)"
   ]
  },
  {
   "cell_type": "code",
   "execution_count": 13,
   "id": "0f25ba62",
   "metadata": {},
   "outputs": [
    {
     "data": {
      "text/plain": [
       "Unnamed: 0    4531\n",
       "date          4531\n",
       "Tweet         4531\n",
       "id            4531\n",
       "dtype: int64"
      ]
     },
     "execution_count": 13,
     "metadata": {},
     "output_type": "execute_result"
    }
   ],
   "source": [
    "found = abortion1[abortion1['Tweet'].str.contains('\\n')]\n",
    "found.count()"
   ]
  },
  {
   "cell_type": "code",
   "execution_count": 14,
   "id": "7c343539",
   "metadata": {},
   "outputs": [
    {
     "data": {
      "text/plain": [
       "Unnamed: 0    0\n",
       "date          0\n",
       "Tweet         0\n",
       "id            0\n",
       "dtype: int64"
      ]
     },
     "execution_count": 14,
     "metadata": {},
     "output_type": "execute_result"
    }
   ],
   "source": [
    "abortion1['Tweet'] = abortion1['Tweet'].replace('\\n', '', regex=True)\n",
    "found = abortion1[abortion1['Tweet'].str.contains('\\n')]\n",
    "found.count()"
   ]
  },
  {
   "cell_type": "code",
   "execution_count": 15,
   "id": "092757d5",
   "metadata": {},
   "outputs": [
    {
     "data": {
      "text/plain": [
       "Unnamed: 0    8953\n",
       "date          8953\n",
       "Tweet         8953\n",
       "id            8953\n",
       "dtype: int64"
      ]
     },
     "execution_count": 15,
     "metadata": {},
     "output_type": "execute_result"
    }
   ],
   "source": [
    "found = abortion1[abortion1['Tweet'].str.contains('@')]\n",
    "found.count()"
   ]
  },
  {
   "cell_type": "code",
   "execution_count": 16,
   "id": "cabeaee3",
   "metadata": {},
   "outputs": [
    {
     "data": {
      "text/plain": [
       "Unnamed: 0    21\n",
       "date          21\n",
       "Tweet         21\n",
       "id            21\n",
       "dtype: int64"
      ]
     },
     "execution_count": 16,
     "metadata": {},
     "output_type": "execute_result"
    }
   ],
   "source": [
    "abortion1['Tweet'] = abortion1['Tweet'].replace('@[A-Za-z0-9_]+', '', regex=True).replace('@[A-Za-z0-9_]', '', regex=True)\n",
    "found = abortion1[abortion1['Tweet'].str.contains('@')]\n",
    "found.count()"
   ]
  },
  {
   "cell_type": "code",
   "execution_count": 17,
   "id": "ea8f6b5f",
   "metadata": {},
   "outputs": [
    {
     "data": {
      "text/html": [
       "<div>\n",
       "<style scoped>\n",
       "    .dataframe tbody tr th:only-of-type {\n",
       "        vertical-align: middle;\n",
       "    }\n",
       "\n",
       "    .dataframe tbody tr th {\n",
       "        vertical-align: top;\n",
       "    }\n",
       "\n",
       "    .dataframe thead th {\n",
       "        text-align: right;\n",
       "    }\n",
       "</style>\n",
       "<table border=\"1\" class=\"dataframe\">\n",
       "  <thead>\n",
       "    <tr style=\"text-align: right;\">\n",
       "      <th></th>\n",
       "      <th>Unnamed: 0</th>\n",
       "      <th>date</th>\n",
       "      <th>Tweet</th>\n",
       "      <th>id</th>\n",
       "    </tr>\n",
       "  </thead>\n",
       "  <tbody>\n",
       "    <tr>\n",
       "      <th>5042</th>\n",
       "      <td>181492</td>\n",
       "      <td>2012-05-31 06:10:29+00:00</td>\n",
       "      <td>#streetartistanbul: tanrı ve koyunlar ve kürta...</td>\n",
       "      <td>2.080780e+17</td>\n",
       "    </tr>\n",
       "    <tr>\n",
       "      <th>5289</th>\n",
       "      <td>117990</td>\n",
       "      <td>2013-06-15 18:31:04+00:00</td>\n",
       "      <td>kürtaj artığı...:@</td>\n",
       "      <td>3.459717e+17</td>\n",
       "    </tr>\n",
       "    <tr>\n",
       "      <th>6163</th>\n",
       "      <td>169977</td>\n",
       "      <td>2012-06-01 17:50:53+00:00</td>\n",
       "      <td>shabertv@ ankara disindaki güncel konularda bi...</td>\n",
       "      <td>2.086166e+17</td>\n",
       "    </tr>\n",
       "    <tr>\n",
       "      <th>6405</th>\n",
       "      <td>40258</td>\n",
       "      <td>2020-01-10 19:26:17+00:00</td>\n",
       "      <td>https://t.co/0njwucpbou #antalya #drfundayazic...</td>\n",
       "      <td>1.215717e+18</td>\n",
       "    </tr>\n",
       "    <tr>\n",
       "      <th>6810</th>\n",
       "      <td>109865</td>\n",
       "      <td>2013-10-18 16:29:07+00:00</td>\n",
       "      <td>el salvador ‘kürtaj yasağının’ en katı uygulan...</td>\n",
       "      <td>3.912395e+17</td>\n",
       "    </tr>\n",
       "    <tr>\n",
       "      <th>7046</th>\n",
       "      <td>122815</td>\n",
       "      <td>2013-04-22 19:29:15+00:00</td>\n",
       "      <td>rt @/kubi_awesome2013eğer erkekler hamile kals...</td>\n",
       "      <td>3.264174e+17</td>\n",
       "    </tr>\n",
       "    <tr>\n",
       "      <th>7892</th>\n",
       "      <td>130760</td>\n",
       "      <td>2012-10-30 21:05:28+00:00</td>\n",
       "      <td>suda doğum yapmak = kürtaj. 0 yaşinda çocuk yü...</td>\n",
       "      <td>2.633862e+17</td>\n",
       "    </tr>\n",
       "    <tr>\n",
       "      <th>9471</th>\n",
       "      <td>129125</td>\n",
       "      <td>2012-12-03 20:03:49+00:00</td>\n",
       "      <td>iguamiz kürtaj mı olacak -€---/):€,&amp;amp;,@/&amp;a...</td>\n",
       "      <td>2.756918e+17</td>\n",
       "    </tr>\n",
       "    <tr>\n",
       "      <th>10087</th>\n",
       "      <td>68189</td>\n",
       "      <td>2017-11-26 00:11:21+00:00</td>\n",
       "      <td>avusturya’da kürtaj karşıtı gösteri https://t....</td>\n",
       "      <td>9.345753e+17</td>\n",
       "    </tr>\n",
       "    <tr>\n",
       "      <th>10209</th>\n",
       "      <td>36388</td>\n",
       "      <td>2020-05-08 07:05:57+00:00</td>\n",
       "      <td>bak ince ince mesaj veriyosun ararım yüzellib...</td>\n",
       "      <td>1.258654e+18</td>\n",
       "    </tr>\n",
       "    <tr>\n",
       "      <th>11161</th>\n",
       "      <td>163930</td>\n",
       "      <td>2012-06-03 11:27:02+00:00</td>\n",
       "      <td>rt : rt : #kadikoy kürtaj haktır, uludere katl...</td>\n",
       "      <td>2.092448e+17</td>\n",
       "    </tr>\n",
       "    <tr>\n",
       "      <th>11518</th>\n",
       "      <td>35053</td>\n",
       "      <td>2020-06-16 15:04:05+00:00</td>\n",
       "      <td>#coronavirus#kadinhastaliklari#dogum#gebelik#a...</td>\n",
       "      <td>1.272908e+18</td>\n",
       "    </tr>\n",
       "    <tr>\n",
       "      <th>20335</th>\n",
       "      <td>69661</td>\n",
       "      <td>2017-08-06 22:00:46+00:00</td>\n",
       "      <td>#kürtaj hukuk #yasa #kanun #huseyinusodinler @...</td>\n",
       "      <td>8.943173e+17</td>\n",
       "    </tr>\n",
       "    <tr>\n",
       "      <th>21033</th>\n",
       "      <td>141956</td>\n",
       "      <td>2012-06-25 15:58:13+00:00</td>\n",
       "      <td>fani aşklara gebe kaldığınızda kürtaj zorunlul...</td>\n",
       "      <td>2.172856e+17</td>\n",
       "    </tr>\n",
       "    <tr>\n",
       "      <th>24788</th>\n",
       "      <td>202679</td>\n",
       "      <td>2012-05-26 12:34:39+00:00</td>\n",
       "      <td>cumleye gel :-) \"@ bilio_muydunuz: kürtaj karş...</td>\n",
       "      <td>2.063627e+17</td>\n",
       "    </tr>\n",
       "    <tr>\n",
       "      <th>26723</th>\n",
       "      <td>108926</td>\n",
       "      <td>2013-11-05 21:58:28+00:00</td>\n",
       "      <td>kınamak gerekli seni doğuranı ama kürtaj yasak...</td>\n",
       "      <td>3.978454e+17</td>\n",
       "    </tr>\n",
       "    <tr>\n",
       "      <th>27099</th>\n",
       "      <td>130171</td>\n",
       "      <td>2012-11-11 13:47:33+00:00</td>\n",
       "      <td>tüm \"gereksiz\" insanlar doğmuş, bu saatten son...</td>\n",
       "      <td>2.676246e+17</td>\n",
       "    </tr>\n",
       "    <tr>\n",
       "      <th>27993</th>\n",
       "      <td>39656</td>\n",
       "      <td>2020-02-02 15:30:09+00:00</td>\n",
       "      <td>🚺 kürtaj sonrası \"adet kanaması\" ne zaman olur...</td>\n",
       "      <td>1.223992e+18</td>\n",
       "    </tr>\n",
       "    <tr>\n",
       "      <th>28748</th>\n",
       "      <td>137878</td>\n",
       "      <td>2012-07-20 22:03:04+00:00</td>\n",
       "      <td>devlet hayat kadınlarına kürtaj ı serbest bır...</td>\n",
       "      <td>2.264371e+17</td>\n",
       "    </tr>\n",
       "    <tr>\n",
       "      <th>28931</th>\n",
       "      <td>183907</td>\n",
       "      <td>2012-05-30 19:29:52+00:00</td>\n",
       "      <td>kürtajı 4 haftaya düşürüceklermiş mk daha hami...</td>\n",
       "      <td>2.079168e+17</td>\n",
       "    </tr>\n",
       "    <tr>\n",
       "      <th>29341</th>\n",
       "      <td>116527</td>\n",
       "      <td>2013-06-28 22:45:50+00:00</td>\n",
       "      <td>baş ağrısı kürtaj olmuyo mu amk :@</td>\n",
       "      <td>3.507469e+17</td>\n",
       "    </tr>\n",
       "  </tbody>\n",
       "</table>\n",
       "</div>"
      ],
      "text/plain": [
       "       Unnamed: 0                       date  \\\n",
       "5042       181492  2012-05-31 06:10:29+00:00   \n",
       "5289       117990  2013-06-15 18:31:04+00:00   \n",
       "6163       169977  2012-06-01 17:50:53+00:00   \n",
       "6405        40258  2020-01-10 19:26:17+00:00   \n",
       "6810       109865  2013-10-18 16:29:07+00:00   \n",
       "7046       122815  2013-04-22 19:29:15+00:00   \n",
       "7892       130760  2012-10-30 21:05:28+00:00   \n",
       "9471       129125  2012-12-03 20:03:49+00:00   \n",
       "10087       68189  2017-11-26 00:11:21+00:00   \n",
       "10209       36388  2020-05-08 07:05:57+00:00   \n",
       "11161      163930  2012-06-03 11:27:02+00:00   \n",
       "11518       35053  2020-06-16 15:04:05+00:00   \n",
       "20335       69661  2017-08-06 22:00:46+00:00   \n",
       "21033      141956  2012-06-25 15:58:13+00:00   \n",
       "24788      202679  2012-05-26 12:34:39+00:00   \n",
       "26723      108926  2013-11-05 21:58:28+00:00   \n",
       "27099      130171  2012-11-11 13:47:33+00:00   \n",
       "27993       39656  2020-02-02 15:30:09+00:00   \n",
       "28748      137878  2012-07-20 22:03:04+00:00   \n",
       "28931      183907  2012-05-30 19:29:52+00:00   \n",
       "29341      116527  2013-06-28 22:45:50+00:00   \n",
       "\n",
       "                                                   Tweet            id  \n",
       "5042   #streetartistanbul: tanrı ve koyunlar ve kürta...  2.080780e+17  \n",
       "5289                                  kürtaj artığı...:@  3.459717e+17  \n",
       "6163   shabertv@ ankara disindaki güncel konularda bi...  2.086166e+17  \n",
       "6405   https://t.co/0njwucpbou #antalya #drfundayazic...  1.215717e+18  \n",
       "6810   el salvador ‘kürtaj yasağının’ en katı uygulan...  3.912395e+17  \n",
       "7046   rt @/kubi_awesome2013eğer erkekler hamile kals...  3.264174e+17  \n",
       "7892   suda doğum yapmak = kürtaj. 0 yaşinda çocuk yü...  2.633862e+17  \n",
       "9471    iguamiz kürtaj mı olacak -€---/):€,&amp;,@/&a...  2.756918e+17  \n",
       "10087  avusturya’da kürtaj karşıtı gösteri https://t....  9.345753e+17  \n",
       "10209   bak ince ince mesaj veriyosun ararım yüzellib...  1.258654e+18  \n",
       "11161  rt : rt : #kadikoy kürtaj haktır, uludere katl...  2.092448e+17  \n",
       "11518  #coronavirus#kadinhastaliklari#dogum#gebelik#a...  1.272908e+18  \n",
       "20335  #kürtaj hukuk #yasa #kanun #huseyinusodinler @...  8.943173e+17  \n",
       "21033  fani aşklara gebe kaldığınızda kürtaj zorunlul...  2.172856e+17  \n",
       "24788  cumleye gel :-) \"@ bilio_muydunuz: kürtaj karş...  2.063627e+17  \n",
       "26723  kınamak gerekli seni doğuranı ama kürtaj yasak...  3.978454e+17  \n",
       "27099  tüm \"gereksiz\" insanlar doğmuş, bu saatten son...  2.676246e+17  \n",
       "27993  🚺 kürtaj sonrası \"adet kanaması\" ne zaman olur...  1.223992e+18  \n",
       "28748   devlet hayat kadınlarına kürtaj ı serbest bır...  2.264371e+17  \n",
       "28931  kürtajı 4 haftaya düşürüceklermiş mk daha hami...  2.079168e+17  \n",
       "29341                 baş ağrısı kürtaj olmuyo mu amk :@  3.507469e+17  "
      ]
     },
     "execution_count": 17,
     "metadata": {},
     "output_type": "execute_result"
    }
   ],
   "source": [
    "abortion1[abortion1['Tweet'].str.contains('@')]"
   ]
  },
  {
   "cell_type": "code",
   "execution_count": 18,
   "id": "7ff5ae00",
   "metadata": {},
   "outputs": [
    {
     "data": {
      "text/plain": [
       "Unnamed: 0    0\n",
       "date          0\n",
       "Tweet         0\n",
       "id            0\n",
       "dtype: int64"
      ]
     },
     "execution_count": 18,
     "metadata": {},
     "output_type": "execute_result"
    }
   ],
   "source": [
    "abortion1['Tweet'] = abortion1['Tweet'].replace('@', '', regex=True)\n",
    "found = abortion1[abortion1['Tweet'].str.contains('@')]\n",
    "found.count()"
   ]
  },
  {
   "cell_type": "code",
   "execution_count": 19,
   "id": "4a801525",
   "metadata": {},
   "outputs": [
    {
     "data": {
      "text/plain": [
       "Unnamed: 0    0\n",
       "date          0\n",
       "Tweet         0\n",
       "id            0\n",
       "dtype: int64"
      ]
     },
     "execution_count": 19,
     "metadata": {},
     "output_type": "execute_result"
    }
   ],
   "source": [
    "abortion1['Tweet'] = abortion1['Tweet'].replace(r'http\\S+', '', regex=True).replace(r'www\\S+', '', regex=True)\n",
    "found = abortion1[abortion1['Tweet'].str.contains('http')]\n",
    "found.count()"
   ]
  },
  {
   "cell_type": "markdown",
   "id": "8827b37e",
   "metadata": {},
   "source": [
    "### Removing Punctuations, Emojis and Numbers"
   ]
  },
  {
   "cell_type": "code",
   "execution_count": 20,
   "id": "894ecb45",
   "metadata": {},
   "outputs": [],
   "source": [
    "import string"
   ]
  },
  {
   "cell_type": "code",
   "execution_count": 21,
   "id": "7f775d48",
   "metadata": {},
   "outputs": [
    {
     "data": {
      "text/html": [
       "<div>\n",
       "<style scoped>\n",
       "    .dataframe tbody tr th:only-of-type {\n",
       "        vertical-align: middle;\n",
       "    }\n",
       "\n",
       "    .dataframe tbody tr th {\n",
       "        vertical-align: top;\n",
       "    }\n",
       "\n",
       "    .dataframe thead th {\n",
       "        text-align: right;\n",
       "    }\n",
       "</style>\n",
       "<table border=\"1\" class=\"dataframe\">\n",
       "  <thead>\n",
       "    <tr style=\"text-align: right;\">\n",
       "      <th></th>\n",
       "      <th>Unnamed: 0</th>\n",
       "      <th>date</th>\n",
       "      <th>Tweet</th>\n",
       "      <th>id</th>\n",
       "    </tr>\n",
       "  </thead>\n",
       "  <tbody>\n",
       "    <tr>\n",
       "      <th>0</th>\n",
       "      <td>43105</td>\n",
       "      <td>2019-09-12 15:02:56+00:00</td>\n",
       "      <td>emniyet kürtaj listesi kararında geri adım att...</td>\n",
       "      <td>1.172164e+18</td>\n",
       "    </tr>\n",
       "    <tr>\n",
       "      <th>1</th>\n",
       "      <td>117554</td>\n",
       "      <td>2013-06-18 19:02:26+00:00</td>\n",
       "      <td>hoop başa döndük yine: kürtaj emselesi topu ta...</td>\n",
       "      <td>3.470668e+17</td>\n",
       "    </tr>\n",
       "    <tr>\n",
       "      <th>2</th>\n",
       "      <td>144147</td>\n",
       "      <td>2012-06-20 23:30:32+00:00</td>\n",
       "      <td>akp bizleri çözmüş:( kürtaj konusunun suni gün...</td>\n",
       "      <td>2.155875e+17</td>\n",
       "    </tr>\n",
       "    <tr>\n",
       "      <th>3</th>\n",
       "      <td>169204</td>\n",
       "      <td>2012-06-01 21:28:04+00:00</td>\n",
       "      <td>biri çıkmış kürtaja karşıyız der.diğeri siz ya...</td>\n",
       "      <td>2.086713e+17</td>\n",
       "    </tr>\n",
       "    <tr>\n",
       "      <th>4</th>\n",
       "      <td>70990</td>\n",
       "      <td>2017-04-29 18:37:32+00:00</td>\n",
       "      <td>bu ülke de kürtaj yasağı bile protesto edil...</td>\n",
       "      <td>8.583898e+17</td>\n",
       "    </tr>\n",
       "    <tr>\n",
       "      <th>...</th>\n",
       "      <td>...</td>\n",
       "      <td>...</td>\n",
       "      <td>...</td>\n",
       "      <td>...</td>\n",
       "    </tr>\n",
       "    <tr>\n",
       "      <th>29994</th>\n",
       "      <td>14094</td>\n",
       "      <td>2021-08-23 16:05:41+00:00</td>\n",
       "      <td>i̇şiniz gücünüz muhalefet , sen bilmezsin ye...</td>\n",
       "      <td>1.429837e+18</td>\n",
       "    </tr>\n",
       "    <tr>\n",
       "      <th>29995</th>\n",
       "      <td>192446</td>\n",
       "      <td>2012-05-29 16:29:46+00:00</td>\n",
       "      <td>hiç bir kadın mecbur kalmadıkça kürtaj olmaz, ...</td>\n",
       "      <td>2.075090e+17</td>\n",
       "    </tr>\n",
       "    <tr>\n",
       "      <th>29996</th>\n",
       "      <td>135911</td>\n",
       "      <td>2012-08-05 12:22:37+00:00</td>\n",
       "      <td>beklenen oldu: 'kürtaj dahil' yurtdışı turları...</td>\n",
       "      <td>2.320892e+17</td>\n",
       "    </tr>\n",
       "    <tr>\n",
       "      <th>29997</th>\n",
       "      <td>59579</td>\n",
       "      <td>2018-05-19 04:37:54+00:00</td>\n",
       "      <td>kürtaj yapıyorlar 🤣🤣🤣</td>\n",
       "      <td>9.976978e+17</td>\n",
       "    </tr>\n",
       "    <tr>\n",
       "      <th>29998</th>\n",
       "      <td>121468</td>\n",
       "      <td>2013-05-25 12:38:01+00:00</td>\n",
       "      <td>uludere yi kürtaj ile halleddenler reyhanlıyı ...</td>\n",
       "      <td>3.382727e+17</td>\n",
       "    </tr>\n",
       "  </tbody>\n",
       "</table>\n",
       "<p>29999 rows × 4 columns</p>\n",
       "</div>"
      ],
      "text/plain": [
       "       Unnamed: 0                       date  \\\n",
       "0           43105  2019-09-12 15:02:56+00:00   \n",
       "1          117554  2013-06-18 19:02:26+00:00   \n",
       "2          144147  2012-06-20 23:30:32+00:00   \n",
       "3          169204  2012-06-01 21:28:04+00:00   \n",
       "4           70990  2017-04-29 18:37:32+00:00   \n",
       "...           ...                        ...   \n",
       "29994       14094  2021-08-23 16:05:41+00:00   \n",
       "29995      192446  2012-05-29 16:29:46+00:00   \n",
       "29996      135911  2012-08-05 12:22:37+00:00   \n",
       "29997       59579  2018-05-19 04:37:54+00:00   \n",
       "29998      121468  2013-05-25 12:38:01+00:00   \n",
       "\n",
       "                                                   Tweet            id  \n",
       "0      emniyet kürtaj listesi kararında geri adım att...  1.172164e+18  \n",
       "1      hoop başa döndük yine: kürtaj emselesi topu ta...  3.470668e+17  \n",
       "2      akp bizleri çözmüş:( kürtaj konusunun suni gün...  2.155875e+17  \n",
       "3      biri çıkmış kürtaja karşıyız der.diğeri siz ya...  2.086713e+17  \n",
       "4         bu ülke de kürtaj yasağı bile protesto edil...  8.583898e+17  \n",
       "...                                                  ...           ...  \n",
       "29994    i̇şiniz gücünüz muhalefet , sen bilmezsin ye...  1.429837e+18  \n",
       "29995  hiç bir kadın mecbur kalmadıkça kürtaj olmaz, ...  2.075090e+17  \n",
       "29996  beklenen oldu: 'kürtaj dahil' yurtdışı turları...  2.320892e+17  \n",
       "29997                              kürtaj yapıyorlar 🤣🤣🤣  9.976978e+17  \n",
       "29998  uludere yi kürtaj ile halleddenler reyhanlıyı ...  3.382727e+17  \n",
       "\n",
       "[29999 rows x 4 columns]"
      ]
     },
     "execution_count": 21,
     "metadata": {},
     "output_type": "execute_result"
    }
   ],
   "source": [
    "sentences = abortion1['Tweet'].copy()\n",
    "new_sent = []\n",
    "i = 0\n",
    "for sentence in sentences:\n",
    "    new_sentence = re.sub('[0-9]+', '', sentence)\n",
    "    new_sent.append(new_sentence)\n",
    "    i += 1\n",
    "    \n",
    "abortion1['Tweet'] = new_sent\n",
    "abortion1"
   ]
  },
  {
   "cell_type": "code",
   "execution_count": 22,
   "id": "eae470e2",
   "metadata": {},
   "outputs": [],
   "source": [
    "table = str.maketrans('', '', string.punctuation)\n",
    "sentences = abortion1['Tweet'].copy()\n",
    "new_sent = []\n",
    "for sentence in sentences:\n",
    "    words = sentence.split()\n",
    "    stripped = [w.translate(table) for w in words]\n",
    "    new_sent.append(stripped)"
   ]
  },
  {
   "cell_type": "code",
   "execution_count": 23,
   "id": "a628bfa8",
   "metadata": {},
   "outputs": [
    {
     "data": {
      "text/html": [
       "<div>\n",
       "<style scoped>\n",
       "    .dataframe tbody tr th:only-of-type {\n",
       "        vertical-align: middle;\n",
       "    }\n",
       "\n",
       "    .dataframe tbody tr th {\n",
       "        vertical-align: top;\n",
       "    }\n",
       "\n",
       "    .dataframe thead th {\n",
       "        text-align: right;\n",
       "    }\n",
       "</style>\n",
       "<table border=\"1\" class=\"dataframe\">\n",
       "  <thead>\n",
       "    <tr style=\"text-align: right;\">\n",
       "      <th></th>\n",
       "      <th>Unnamed: 0</th>\n",
       "      <th>date</th>\n",
       "      <th>Tweet</th>\n",
       "      <th>id</th>\n",
       "    </tr>\n",
       "  </thead>\n",
       "  <tbody>\n",
       "    <tr>\n",
       "      <th>0</th>\n",
       "      <td>43105</td>\n",
       "      <td>2019-09-12 15:02:56+00:00</td>\n",
       "      <td>[emniyet, kürtaj, listesi, kararında, geri, ad...</td>\n",
       "      <td>1.172164e+18</td>\n",
       "    </tr>\n",
       "    <tr>\n",
       "      <th>1</th>\n",
       "      <td>117554</td>\n",
       "      <td>2013-06-18 19:02:26+00:00</td>\n",
       "      <td>[hoop, başa, döndük, yine, kürtaj, emselesi, t...</td>\n",
       "      <td>3.470668e+17</td>\n",
       "    </tr>\n",
       "    <tr>\n",
       "      <th>2</th>\n",
       "      <td>144147</td>\n",
       "      <td>2012-06-20 23:30:32+00:00</td>\n",
       "      <td>[akp, bizleri, çözmüş, kürtaj, konusunun, suni...</td>\n",
       "      <td>2.155875e+17</td>\n",
       "    </tr>\n",
       "    <tr>\n",
       "      <th>3</th>\n",
       "      <td>169204</td>\n",
       "      <td>2012-06-01 21:28:04+00:00</td>\n",
       "      <td>[biri, çıkmış, kürtaja, karşıyız, derdiğeri, s...</td>\n",
       "      <td>2.086713e+17</td>\n",
       "    </tr>\n",
       "    <tr>\n",
       "      <th>4</th>\n",
       "      <td>70990</td>\n",
       "      <td>2017-04-29 18:37:32+00:00</td>\n",
       "      <td>[bu, ülke, de, kürtaj, yasağı, bile, protesto,...</td>\n",
       "      <td>8.583898e+17</td>\n",
       "    </tr>\n",
       "    <tr>\n",
       "      <th>...</th>\n",
       "      <td>...</td>\n",
       "      <td>...</td>\n",
       "      <td>...</td>\n",
       "      <td>...</td>\n",
       "    </tr>\n",
       "    <tr>\n",
       "      <th>29994</th>\n",
       "      <td>14094</td>\n",
       "      <td>2021-08-23 16:05:41+00:00</td>\n",
       "      <td>[i̇şiniz, gücünüz, muhalefet, , sen, bilmezsin...</td>\n",
       "      <td>1.429837e+18</td>\n",
       "    </tr>\n",
       "    <tr>\n",
       "      <th>29995</th>\n",
       "      <td>192446</td>\n",
       "      <td>2012-05-29 16:29:46+00:00</td>\n",
       "      <td>[hiç, bir, kadın, mecbur, kalmadıkça, kürtaj, ...</td>\n",
       "      <td>2.075090e+17</td>\n",
       "    </tr>\n",
       "    <tr>\n",
       "      <th>29996</th>\n",
       "      <td>135911</td>\n",
       "      <td>2012-08-05 12:22:37+00:00</td>\n",
       "      <td>[beklenen, oldu, kürtaj, dahil, yurtdışı, turl...</td>\n",
       "      <td>2.320892e+17</td>\n",
       "    </tr>\n",
       "    <tr>\n",
       "      <th>29997</th>\n",
       "      <td>59579</td>\n",
       "      <td>2018-05-19 04:37:54+00:00</td>\n",
       "      <td>[kürtaj, yapıyorlar, 🤣🤣🤣]</td>\n",
       "      <td>9.976978e+17</td>\n",
       "    </tr>\n",
       "    <tr>\n",
       "      <th>29998</th>\n",
       "      <td>121468</td>\n",
       "      <td>2013-05-25 12:38:01+00:00</td>\n",
       "      <td>[uludere, yi, kürtaj, ile, halleddenler, reyha...</td>\n",
       "      <td>3.382727e+17</td>\n",
       "    </tr>\n",
       "  </tbody>\n",
       "</table>\n",
       "<p>29999 rows × 4 columns</p>\n",
       "</div>"
      ],
      "text/plain": [
       "       Unnamed: 0                       date  \\\n",
       "0           43105  2019-09-12 15:02:56+00:00   \n",
       "1          117554  2013-06-18 19:02:26+00:00   \n",
       "2          144147  2012-06-20 23:30:32+00:00   \n",
       "3          169204  2012-06-01 21:28:04+00:00   \n",
       "4           70990  2017-04-29 18:37:32+00:00   \n",
       "...           ...                        ...   \n",
       "29994       14094  2021-08-23 16:05:41+00:00   \n",
       "29995      192446  2012-05-29 16:29:46+00:00   \n",
       "29996      135911  2012-08-05 12:22:37+00:00   \n",
       "29997       59579  2018-05-19 04:37:54+00:00   \n",
       "29998      121468  2013-05-25 12:38:01+00:00   \n",
       "\n",
       "                                                   Tweet            id  \n",
       "0      [emniyet, kürtaj, listesi, kararında, geri, ad...  1.172164e+18  \n",
       "1      [hoop, başa, döndük, yine, kürtaj, emselesi, t...  3.470668e+17  \n",
       "2      [akp, bizleri, çözmüş, kürtaj, konusunun, suni...  2.155875e+17  \n",
       "3      [biri, çıkmış, kürtaja, karşıyız, derdiğeri, s...  2.086713e+17  \n",
       "4      [bu, ülke, de, kürtaj, yasağı, bile, protesto,...  8.583898e+17  \n",
       "...                                                  ...           ...  \n",
       "29994  [i̇şiniz, gücünüz, muhalefet, , sen, bilmezsin...  1.429837e+18  \n",
       "29995  [hiç, bir, kadın, mecbur, kalmadıkça, kürtaj, ...  2.075090e+17  \n",
       "29996  [beklenen, oldu, kürtaj, dahil, yurtdışı, turl...  2.320892e+17  \n",
       "29997                          [kürtaj, yapıyorlar, 🤣🤣🤣]  9.976978e+17  \n",
       "29998  [uludere, yi, kürtaj, ile, halleddenler, reyha...  3.382727e+17  \n",
       "\n",
       "[29999 rows x 4 columns]"
      ]
     },
     "execution_count": 23,
     "metadata": {},
     "output_type": "execute_result"
    }
   ],
   "source": [
    "abortion1['Tweet'] = new_sent\n",
    "abortion1"
   ]
  },
  {
   "cell_type": "markdown",
   "id": "b24ebbcf",
   "metadata": {},
   "source": [
    "### Tokenization"
   ]
  },
  {
   "cell_type": "code",
   "execution_count": 35,
   "id": "2c3846f1",
   "metadata": {},
   "outputs": [
    {
     "name": "stdout",
     "output_type": "stream",
     "text": [
      "Requirement already satisfied: antlr4-python3-runtime==4.8 in /opt/anaconda3/lib/python3.8/site-packages (4.8)\n",
      "\n",
      "\u001b[1m[\u001b[0m\u001b[34;49mnotice\u001b[0m\u001b[1;39;49m]\u001b[0m\u001b[39;49m A new release of pip available: \u001b[0m\u001b[31;49m22.3\u001b[0m\u001b[39;49m -> \u001b[0m\u001b[32;49m22.3.1\u001b[0m\n",
      "\u001b[1m[\u001b[0m\u001b[34;49mnotice\u001b[0m\u001b[1;39;49m]\u001b[0m\u001b[39;49m To update, run: \u001b[0m\u001b[32;49mpip install --upgrade pip\u001b[0m\n"
     ]
    }
   ],
   "source": [
    "!pip install antlr4-python3-runtime==4.8"
   ]
  },
  {
   "cell_type": "code",
   "execution_count": 36,
   "id": "c820443a",
   "metadata": {},
   "outputs": [
    {
     "name": "stdout",
     "output_type": "stream",
     "text": [
      "2023-01-18 17:15:47,301 - zemberek.morphology.turkish_morphology - INFO\n",
      "Msg: TurkishMorphology instance initialized in 6.156234979629517\n",
      "\n"
     ]
    }
   ],
   "source": [
    "import time\n",
    "import logging\n",
    "import sys\n",
    "\n",
    "from zemberek import (\n",
    "    TurkishSpellChecker,\n",
    "    TurkishSentenceNormalizer,\n",
    "    TurkishSentenceExtractor,\n",
    "    TurkishMorphology,\n",
    "    TurkishTokenizer\n",
    ")\n",
    "\n",
    "logger = logging.getLogger(__name__)\n",
    "\n",
    "morphology = TurkishMorphology.create_with_defaults()\n",
    "normalizer = TurkishSentenceNormalizer(morphology)\n",
    "extractor = TurkishSentenceExtractor()"
   ]
  },
  {
   "cell_type": "markdown",
   "id": "e771485c",
   "metadata": {},
   "source": [
    "### Normalization"
   ]
  },
  {
   "cell_type": "code",
   "execution_count": 37,
   "id": "fdf9a65b",
   "metadata": {},
   "outputs": [],
   "source": [
    "def normalize_long_text(text):\n",
    "    normalized_sentences = [normalizer.normalize(word) for word in text]\n",
    "    normalized_text = \" \".join(normalized_sentences)\n",
    "    return normalized_text"
   ]
  },
  {
   "cell_type": "code",
   "execution_count": null,
   "id": "840c0a88",
   "metadata": {},
   "outputs": [],
   "source": [
    "sentences = abortion1['Tweet'].copy()\n",
    "new_sent = []\n",
    "start = time.time()\n",
    "\n",
    "for token in sentences:   \n",
    "    if token.count('') > 0:\n",
    "        token = list(filter(('').__ne__, token))\n",
    "    new_token = normalize_long_text(token)\n",
    "    new_sent.append(new_token)\n",
    "\n",
    "logger.info(f\"Sentences normalized in: {time.time() - start} s\")"
   ]
  },
  {
   "cell_type": "code",
   "execution_count": null,
   "id": "594d22af",
   "metadata": {},
   "outputs": [],
   "source": []
  }
 ],
 "metadata": {
  "kernelspec": {
   "display_name": "Python 3 (ipykernel)",
   "language": "python",
   "name": "python3"
  },
  "language_info": {
   "codemirror_mode": {
    "name": "ipython",
    "version": 3
   },
   "file_extension": ".py",
   "mimetype": "text/x-python",
   "name": "python",
   "nbconvert_exporter": "python",
   "pygments_lexer": "ipython3",
   "version": "3.8.8"
  }
 },
 "nbformat": 4,
 "nbformat_minor": 5
}
