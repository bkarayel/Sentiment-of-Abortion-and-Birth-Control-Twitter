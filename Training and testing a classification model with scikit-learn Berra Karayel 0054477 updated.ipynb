{
 "cells": [
  {
   "cell_type": "markdown",
   "id": "8ac67f9f",
   "metadata": {},
   "source": [
    "### Training and testing a classification model with scikit-learn"
   ]
  },
  {
   "cell_type": "markdown",
   "id": "02c6ce5a",
   "metadata": {},
   "source": [
    "Berra Karayel 0054477"
   ]
  },
  {
   "cell_type": "code",
   "execution_count": 1,
   "id": "fab567d2",
   "metadata": {},
   "outputs": [],
   "source": [
    "import pandas as pd\n",
    "import json"
   ]
  },
  {
   "cell_type": "code",
   "execution_count": 2,
   "id": "c2050fb8",
   "metadata": {},
   "outputs": [],
   "source": [
    "annotated_abortion = pd.read_csv(\"/Users/berrakarayel/Desktop/abortion annotation preprocessedupdated 2.csv\")"
   ]
  },
  {
   "cell_type": "code",
   "execution_count": 3,
   "id": "99066a0e",
   "metadata": {},
   "outputs": [
    {
     "data": {
      "text/html": [
       "<div>\n",
       "<style scoped>\n",
       "    .dataframe tbody tr th:only-of-type {\n",
       "        vertical-align: middle;\n",
       "    }\n",
       "\n",
       "    .dataframe tbody tr th {\n",
       "        vertical-align: top;\n",
       "    }\n",
       "\n",
       "    .dataframe thead th {\n",
       "        text-align: right;\n",
       "    }\n",
       "</style>\n",
       "<table border=\"1\" class=\"dataframe\">\n",
       "  <thead>\n",
       "    <tr style=\"text-align: right;\">\n",
       "      <th></th>\n",
       "      <th>Unnamed: 0</th>\n",
       "      <th>number</th>\n",
       "      <th>date</th>\n",
       "      <th>id</th>\n",
       "      <th>Tweet</th>\n",
       "      <th>Sentiment</th>\n",
       "    </tr>\n",
       "  </thead>\n",
       "  <tbody>\n",
       "    <tr>\n",
       "      <th>0</th>\n",
       "      <td>0</td>\n",
       "      <td>1</td>\n",
       "      <td>2021-10-06 11:44:39+00:00</td>\n",
       "      <td>1.445717e+18</td>\n",
       "      <td>kürtaj konu karamak net muhafazakâr aynı saf o...</td>\n",
       "      <td>positive</td>\n",
       "    </tr>\n",
       "    <tr>\n",
       "      <th>1</th>\n",
       "      <td>1</td>\n",
       "      <td>2</td>\n",
       "      <td>2013-03-30 08:12:17+00:00</td>\n",
       "      <td>3.179122e+17</td>\n",
       "      <td>kürtaj son çare</td>\n",
       "      <td>neutral</td>\n",
       "    </tr>\n",
       "    <tr>\n",
       "      <th>2</th>\n",
       "      <td>2</td>\n",
       "      <td>3</td>\n",
       "      <td>2019-09-10 14:16:41+00:00</td>\n",
       "      <td>1.171427e+18</td>\n",
       "      <td>bilim demek el attıları̇stanbul i̇l emniyet mü...</td>\n",
       "      <td>neutral</td>\n",
       "    </tr>\n",
       "    <tr>\n",
       "      <th>3</th>\n",
       "      <td>3</td>\n",
       "      <td>4</td>\n",
       "      <td>2012-06-02 11:52:08+00:00</td>\n",
       "      <td>2.088887e+17</td>\n",
       "      <td>radikal kürtaj protesto bariyer aşti başbakan ...</td>\n",
       "      <td>neutral</td>\n",
       "    </tr>\n",
       "    <tr>\n",
       "      <th>4</th>\n",
       "      <td>4</td>\n",
       "      <td>5</td>\n",
       "      <td>2018-05-12 18:29:54+00:00</td>\n",
       "      <td>9.953705e+17</td>\n",
       "      <td>kürtaj yapiliyeah</td>\n",
       "      <td>neutral</td>\n",
       "    </tr>\n",
       "    <tr>\n",
       "      <th>5</th>\n",
       "      <td>5</td>\n",
       "      <td>6</td>\n",
       "      <td>2021-03-18 18:47:42+00:00</td>\n",
       "      <td>1.372621e+18</td>\n",
       "      <td>ned merkez tüp bebek tedavi sonuç kul donmak e...</td>\n",
       "      <td>neutral</td>\n",
       "    </tr>\n",
       "    <tr>\n",
       "      <th>6</th>\n",
       "      <td>6</td>\n",
       "      <td>7</td>\n",
       "      <td>2016-04-06 06:51:45+00:00</td>\n",
       "      <td>7.176057e+17</td>\n",
       "      <td>‘ yaş dişi kürtaj soruşturmak i̇stanbul adli t...</td>\n",
       "      <td>neutral</td>\n",
       "    </tr>\n",
       "    <tr>\n",
       "      <th>7</th>\n",
       "      <td>7</td>\n",
       "      <td>8</td>\n",
       "      <td>2012-11-11 21:53:11+00:00</td>\n",
       "      <td>2.677468e+17</td>\n",
       "      <td>gerek insan doğmak saat sonra kürtaj yasak olur</td>\n",
       "      <td>neutral</td>\n",
       "    </tr>\n",
       "    <tr>\n",
       "      <th>8</th>\n",
       "      <td>8</td>\n",
       "      <td>9</td>\n",
       "      <td>2013-11-21 11:06:40+00:00</td>\n",
       "      <td>4.034796e+17</td>\n",
       "      <td>kürtajkürtaj istemek kadın genellikle bun bir ...</td>\n",
       "      <td>neutral</td>\n",
       "    </tr>\n",
       "    <tr>\n",
       "      <th>9</th>\n",
       "      <td>9</td>\n",
       "      <td>10</td>\n",
       "      <td>2012-05-26 12:29:19+00:00</td>\n",
       "      <td>2.063614e+17</td>\n",
       "      <td>sezaryankürtajcınayetuludere bir kafa çalışmak...</td>\n",
       "      <td>positive</td>\n",
       "    </tr>\n",
       "  </tbody>\n",
       "</table>\n",
       "</div>"
      ],
      "text/plain": [
       "   Unnamed: 0  number                       date            id  \\\n",
       "0           0       1  2021-10-06 11:44:39+00:00  1.445717e+18   \n",
       "1           1       2  2013-03-30 08:12:17+00:00  3.179122e+17   \n",
       "2           2       3  2019-09-10 14:16:41+00:00  1.171427e+18   \n",
       "3           3       4  2012-06-02 11:52:08+00:00  2.088887e+17   \n",
       "4           4       5  2018-05-12 18:29:54+00:00  9.953705e+17   \n",
       "5           5       6  2021-03-18 18:47:42+00:00  1.372621e+18   \n",
       "6           6       7  2016-04-06 06:51:45+00:00  7.176057e+17   \n",
       "7           7       8  2012-11-11 21:53:11+00:00  2.677468e+17   \n",
       "8           8       9  2013-11-21 11:06:40+00:00  4.034796e+17   \n",
       "9           9      10  2012-05-26 12:29:19+00:00  2.063614e+17   \n",
       "\n",
       "                                               Tweet Sentiment  \n",
       "0  kürtaj konu karamak net muhafazakâr aynı saf o...  positive  \n",
       "1                                    kürtaj son çare   neutral  \n",
       "2  bilim demek el attıları̇stanbul i̇l emniyet mü...   neutral  \n",
       "3  radikal kürtaj protesto bariyer aşti başbakan ...   neutral  \n",
       "4                                  kürtaj yapiliyeah   neutral  \n",
       "5  ned merkez tüp bebek tedavi sonuç kul donmak e...   neutral  \n",
       "6  ‘ yaş dişi kürtaj soruşturmak i̇stanbul adli t...   neutral  \n",
       "7    gerek insan doğmak saat sonra kürtaj yasak olur   neutral  \n",
       "8  kürtajkürtaj istemek kadın genellikle bun bir ...   neutral  \n",
       "9  sezaryankürtajcınayetuludere bir kafa çalışmak...  positive  "
      ]
     },
     "execution_count": 3,
     "metadata": {},
     "output_type": "execute_result"
    }
   ],
   "source": [
    "annotated_abortion.head(10)"
   ]
  },
  {
   "cell_type": "code",
   "execution_count": 4,
   "id": "687c1c9b",
   "metadata": {},
   "outputs": [
    {
     "data": {
      "text/plain": [
       "Unnamed: 0    False\n",
       "number        False\n",
       "date          False\n",
       "id            False\n",
       "Tweet         False\n",
       "Sentiment      True\n",
       "dtype: bool"
      ]
     },
     "execution_count": 4,
     "metadata": {},
     "output_type": "execute_result"
    }
   ],
   "source": [
    "annotated_abortion.isna().any()"
   ]
  },
  {
   "cell_type": "code",
   "execution_count": 5,
   "id": "8600a55d",
   "metadata": {},
   "outputs": [],
   "source": [
    "annotated_abortion = annotated_abortion.dropna()"
   ]
  },
  {
   "cell_type": "code",
   "execution_count": 6,
   "id": "791fb06e",
   "metadata": {},
   "outputs": [
    {
     "data": {
      "text/plain": [
       "Unnamed: 0    False\n",
       "number        False\n",
       "date          False\n",
       "id            False\n",
       "Tweet         False\n",
       "Sentiment     False\n",
       "dtype: bool"
      ]
     },
     "execution_count": 6,
     "metadata": {},
     "output_type": "execute_result"
    }
   ],
   "source": [
    "annotated_abortion.isna().any()"
   ]
  },
  {
   "cell_type": "code",
   "execution_count": 7,
   "id": "b272cc2e",
   "metadata": {},
   "outputs": [],
   "source": [
    "all_tweets = pd.read_csv(\"/Users/berrakarayel/Desktop/abortion_allprocessed.csv\")"
   ]
  },
  {
   "cell_type": "code",
   "execution_count": 8,
   "id": "f4abee9f",
   "metadata": {},
   "outputs": [
    {
     "data": {
      "text/html": [
       "<div>\n",
       "<style scoped>\n",
       "    .dataframe tbody tr th:only-of-type {\n",
       "        vertical-align: middle;\n",
       "    }\n",
       "\n",
       "    .dataframe tbody tr th {\n",
       "        vertical-align: top;\n",
       "    }\n",
       "\n",
       "    .dataframe thead th {\n",
       "        text-align: right;\n",
       "    }\n",
       "</style>\n",
       "<table border=\"1\" class=\"dataframe\">\n",
       "  <thead>\n",
       "    <tr style=\"text-align: right;\">\n",
       "      <th></th>\n",
       "      <th>Unnamed: 0</th>\n",
       "      <th>Unnamed: 0.1</th>\n",
       "      <th>date</th>\n",
       "      <th>Tweet</th>\n",
       "      <th>id</th>\n",
       "    </tr>\n",
       "  </thead>\n",
       "  <tbody>\n",
       "    <tr>\n",
       "      <th>0</th>\n",
       "      <td>0</td>\n",
       "      <td>10674</td>\n",
       "      <td>2021-10-06 11:44:39+00:00</td>\n",
       "      <td>['kürtaj', 'konusunda', 'kararım', 'net', 'muh...</td>\n",
       "      <td>1.445717e+18</td>\n",
       "    </tr>\n",
       "    <tr>\n",
       "      <th>1</th>\n",
       "      <td>1</td>\n",
       "      <td>123355</td>\n",
       "      <td>2013-03-30 08:12:17+00:00</td>\n",
       "      <td>['neden', 'kürtaj', 've', 'son', 'çaremi']</td>\n",
       "      <td>3.179122e+17</td>\n",
       "    </tr>\n",
       "    <tr>\n",
       "      <th>2</th>\n",
       "      <td>2</td>\n",
       "      <td>43601</td>\n",
       "      <td>2019-09-10 14:16:41+00:00</td>\n",
       "      <td>['bilime', 'de', 'el', 'attılari̇stanbul', 'i̇...</td>\n",
       "      <td>1.171427e+18</td>\n",
       "    </tr>\n",
       "    <tr>\n",
       "      <th>3</th>\n",
       "      <td>3</td>\n",
       "      <td>167035</td>\n",
       "      <td>2012-06-02 11:52:08+00:00</td>\n",
       "      <td>['radikal', 'kürtaj', 'protestosu', 'bariyeri'...</td>\n",
       "      <td>2.088887e+17</td>\n",
       "    </tr>\n",
       "    <tr>\n",
       "      <th>4</th>\n",
       "      <td>4</td>\n",
       "      <td>61704</td>\n",
       "      <td>2018-05-12 18:29:54+00:00</td>\n",
       "      <td>['kürtaj', 'yapılıyeah']</td>\n",
       "      <td>9.953705e+17</td>\n",
       "    </tr>\n",
       "    <tr>\n",
       "      <th>5</th>\n",
       "      <td>5</td>\n",
       "      <td>19015</td>\n",
       "      <td>2021-03-18 18:47:42+00:00</td>\n",
       "      <td>['nedc', 'gibi', 'merkezler', 'tüp', 'bebek', ...</td>\n",
       "      <td>1.372621e+18</td>\n",
       "    </tr>\n",
       "    <tr>\n",
       "      <th>6</th>\n",
       "      <td>6</td>\n",
       "      <td>79407</td>\n",
       "      <td>2016-04-06 06:51:45+00:00</td>\n",
       "      <td>['‘yasa', 'dışı', 'kürtaj’', 'soruşturmasında'...</td>\n",
       "      <td>7.176057e+17</td>\n",
       "    </tr>\n",
       "    <tr>\n",
       "      <th>7</th>\n",
       "      <td>7</td>\n",
       "      <td>130126</td>\n",
       "      <td>2012-11-11 21:53:11+00:00</td>\n",
       "      <td>['tüm', 'gereksiz', 'insanlar', 'doğmuş', 'bu'...</td>\n",
       "      <td>2.677468e+17</td>\n",
       "    </tr>\n",
       "    <tr>\n",
       "      <th>8</th>\n",
       "      <td>8</td>\n",
       "      <td>107278</td>\n",
       "      <td>2013-11-21 11:06:40+00:00</td>\n",
       "      <td>['kürtajkürtaj', 'isteyen', 'kadınlar', 'genel...</td>\n",
       "      <td>4.034796e+17</td>\n",
       "    </tr>\n",
       "    <tr>\n",
       "      <th>9</th>\n",
       "      <td>9</td>\n",
       "      <td>202703</td>\n",
       "      <td>2012-05-26 12:29:19+00:00</td>\n",
       "      <td>['sezaryankürtajcinayetuludere', 'bu', 'nasıl'...</td>\n",
       "      <td>2.063614e+17</td>\n",
       "    </tr>\n",
       "  </tbody>\n",
       "</table>\n",
       "</div>"
      ],
      "text/plain": [
       "   Unnamed: 0  Unnamed: 0.1                       date  \\\n",
       "0           0         10674  2021-10-06 11:44:39+00:00   \n",
       "1           1        123355  2013-03-30 08:12:17+00:00   \n",
       "2           2         43601  2019-09-10 14:16:41+00:00   \n",
       "3           3        167035  2012-06-02 11:52:08+00:00   \n",
       "4           4         61704  2018-05-12 18:29:54+00:00   \n",
       "5           5         19015  2021-03-18 18:47:42+00:00   \n",
       "6           6         79407  2016-04-06 06:51:45+00:00   \n",
       "7           7        130126  2012-11-11 21:53:11+00:00   \n",
       "8           8        107278  2013-11-21 11:06:40+00:00   \n",
       "9           9        202703  2012-05-26 12:29:19+00:00   \n",
       "\n",
       "                                               Tweet            id  \n",
       "0  ['kürtaj', 'konusunda', 'kararım', 'net', 'muh...  1.445717e+18  \n",
       "1         ['neden', 'kürtaj', 've', 'son', 'çaremi']  3.179122e+17  \n",
       "2  ['bilime', 'de', 'el', 'attılari̇stanbul', 'i̇...  1.171427e+18  \n",
       "3  ['radikal', 'kürtaj', 'protestosu', 'bariyeri'...  2.088887e+17  \n",
       "4                           ['kürtaj', 'yapılıyeah']  9.953705e+17  \n",
       "5  ['nedc', 'gibi', 'merkezler', 'tüp', 'bebek', ...  1.372621e+18  \n",
       "6  ['‘yasa', 'dışı', 'kürtaj’', 'soruşturmasında'...  7.176057e+17  \n",
       "7  ['tüm', 'gereksiz', 'insanlar', 'doğmuş', 'bu'...  2.677468e+17  \n",
       "8  ['kürtajkürtaj', 'isteyen', 'kadınlar', 'genel...  4.034796e+17  \n",
       "9  ['sezaryankürtajcinayetuludere', 'bu', 'nasıl'...  2.063614e+17  "
      ]
     },
     "execution_count": 8,
     "metadata": {},
     "output_type": "execute_result"
    }
   ],
   "source": [
    "all_tweets.head(10)"
   ]
  },
  {
   "cell_type": "code",
   "execution_count": 9,
   "id": "f9657803",
   "metadata": {},
   "outputs": [
    {
     "data": {
      "text/plain": [
       "Unnamed: 0      False\n",
       "Unnamed: 0.1    False\n",
       "date            False\n",
       "Tweet           False\n",
       "id              False\n",
       "dtype: bool"
      ]
     },
     "execution_count": 9,
     "metadata": {},
     "output_type": "execute_result"
    }
   ],
   "source": [
    "all_tweets.isna().any()"
   ]
  },
  {
   "cell_type": "code",
   "execution_count": 10,
   "id": "760c3009",
   "metadata": {},
   "outputs": [],
   "source": [
    "all_tweets.rename(columns = {'rawContent':'Tweet'}, inplace = True)"
   ]
  },
  {
   "cell_type": "code",
   "execution_count": 11,
   "id": "8598f371",
   "metadata": {},
   "outputs": [
    {
     "data": {
      "text/plain": [
       "Index(['Unnamed: 0', 'Unnamed: 0.1', 'date', 'Tweet', 'id'], dtype='object')"
      ]
     },
     "execution_count": 11,
     "metadata": {},
     "output_type": "execute_result"
    }
   ],
   "source": [
    "all_tweets.columns"
   ]
  },
  {
   "cell_type": "markdown",
   "id": "8a834f04",
   "metadata": {},
   "source": [
    "### CountVectorizer for text classification"
   ]
  },
  {
   "cell_type": "code",
   "execution_count": 12,
   "id": "fd25984e",
   "metadata": {},
   "outputs": [],
   "source": [
    "# Import the necessary modules\n",
    "from sklearn.feature_extraction.text import CountVectorizer\n",
    "from sklearn.model_selection import train_test_split"
   ]
  },
  {
   "cell_type": "code",
   "execution_count": 13,
   "id": "78391652",
   "metadata": {},
   "outputs": [
    {
     "name": "stdout",
     "output_type": "stream",
     "text": [
      "['abduçaklarda', 'abdye', 'abdyi', 'abdyiz', 'abdylehesapzamanıyineçaktınkemal', 'abdyüksek', 'abdyıl', 'abdülaziz', 'abdülhamid', 'abdülhamide', 'abdülhamidhan', 'abdülhamit', 'abdülhamiti', 'abdülkadir', 'abdülmetin', 'abdʹde', 'abe', 'abedle', 'abeeğğ', 'aberki', 'abes', 'abesle', 'abesti', 'abestir', 'abesttir', 'abey', 'abfaööd', 'abhaber', 'abhhhaha', 'abhordetesthate', 'abi', 'abibizi', 'abiböyle', 'abicim', 'abicimelleri', 'abide', 'abideleri', 'abidelerisiniz', 'abiden', 'abidesi', 'abidesini', 'abidesiyim', 'abidesiyle', 'abidik', 'abidin', 'abihiç', 'abii', 'abiicim', 'abiii', 'abiiii']\n"
     ]
    }
   ],
   "source": [
    "count_vectorizer = CountVectorizer()\n",
    "\n",
    "count_train = count_vectorizer.fit_transform(all_tweets['Tweet'].values)\n",
    "\n",
    "print(count_vectorizer.get_feature_names()[250:300])"
   ]
  },
  {
   "cell_type": "code",
   "execution_count": 14,
   "id": "920a46de",
   "metadata": {},
   "outputs": [
    {
     "name": "stdout",
     "output_type": "stream",
     "text": [
      "['aaa', 'aaah', 'aabitürk', 'ab', 'abartmak', 'abazan', 'abd', 'abdampnın', 'abdkürtaj', 'abi']\n"
     ]
    }
   ],
   "source": [
    "# Create a series to store the labels: y\n",
    "y = annotated_abortion.Sentiment\n",
    "\n",
    "X_train = annotated_abortion['Tweet']\n",
    "y_train = annotated_abortion['Sentiment']\n",
    "X_test = all_tweets['Tweet']\n",
    "\n",
    "# Initialize a CountVectorizer object: count_vectorizer\n",
    "count_vectorizer = CountVectorizer(stop_words='english')\n",
    "\n",
    "# Transform the training data using only the 'text' column values: count_train \n",
    "count_train = count_vectorizer.fit_transform(X_train)\n",
    "\n",
    "# Transform the test data using only the 'text' column values: count_test \n",
    "count_test = count_vectorizer.transform(X_test)\n",
    "\n",
    "# Print the first 10 features of the count_vectorizer\n",
    "print(count_vectorizer.get_feature_names()[:10])"
   ]
  },
  {
   "cell_type": "markdown",
   "id": "a4c90f55",
   "metadata": {},
   "source": [
    "#### Logistic Regression with scikit-learn\n"
   ]
  },
  {
   "cell_type": "code",
   "execution_count": 15,
   "id": "dde15593",
   "metadata": {},
   "outputs": [],
   "source": [
    "from sklearn.linear_model import LogisticRegression\n",
    "from sklearn import linear_model\n",
    "from sklearn import metrics"
   ]
  },
  {
   "cell_type": "code",
   "execution_count": 17,
   "id": "f70e29d5",
   "metadata": {},
   "outputs": [
    {
     "name": "stderr",
     "output_type": "stream",
     "text": [
      "/Users/berrakarayel/opt/anaconda3/lib/python3.8/site-packages/sklearn/linear_model/_logistic.py:763: ConvergenceWarning: lbfgs failed to converge (status=1):\n",
      "STOP: TOTAL NO. of ITERATIONS REACHED LIMIT.\n",
      "\n",
      "Increase the number of iterations (max_iter) or scale the data as shown in:\n",
      "    https://scikit-learn.org/stable/modules/preprocessing.html\n",
      "Please also refer to the documentation for alternative solver options:\n",
      "    https://scikit-learn.org/stable/modules/linear_model.html#logistic-regression\n",
      "  n_iter_i = _check_optimize_result(\n"
     ]
    }
   ],
   "source": [
    "log_reg = LogisticRegression()\n",
    "\n",
    "log_reg.fit(count_train, y_train)\n",
    "pred = log_reg.predict(count_test)\n",
    "metrics.accuracy_score(y_test, pred)"
   ]
  },
  {
   "cell_type": "code",
   "execution_count": null,
   "id": "c0e5290c",
   "metadata": {},
   "outputs": [],
   "source": [
    "metrics.confusion_matrix(y_test, pred, labels=['positive', 'neutral', \"negative\"])"
   ]
  },
  {
   "cell_type": "code",
   "execution_count": 18,
   "id": "27e5fea6",
   "metadata": {},
   "outputs": [
    {
     "data": {
      "text/plain": [
       "array(['neutral', 'neutral', 'neutral', ..., 'neutral', 'positive',\n",
       "       'neutral'], dtype=object)"
      ]
     },
     "execution_count": 18,
     "metadata": {},
     "output_type": "execute_result"
    }
   ],
   "source": [
    "pred"
   ]
  },
  {
   "cell_type": "code",
   "execution_count": 19,
   "id": "a4ba5055",
   "metadata": {},
   "outputs": [],
   "source": [
    "df = pd.concat([X_test.reset_index(drop=True), pd.Series(pred, name=\"Predictions\")], axis=1)\n",
    "df.to_csv(\"predictionsofabortion.csv\", index=False)"
   ]
  },
  {
   "cell_type": "code",
   "execution_count": null,
   "id": "265ad01e",
   "metadata": {},
   "outputs": [],
   "source": []
  }
 ],
 "metadata": {
  "kernelspec": {
   "display_name": "Python 3 (ipykernel)",
   "language": "python",
   "name": "python3"
  },
  "language_info": {
   "codemirror_mode": {
    "name": "ipython",
    "version": 3
   },
   "file_extension": ".py",
   "mimetype": "text/x-python",
   "name": "python",
   "nbconvert_exporter": "python",
   "pygments_lexer": "ipython3",
   "version": "3.8.8"
  }
 },
 "nbformat": 4,
 "nbformat_minor": 5
}
