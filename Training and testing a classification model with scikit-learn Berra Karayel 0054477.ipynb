{
 "cells": [
  {
   "cell_type": "markdown",
   "id": "8ac67f9f",
   "metadata": {},
   "source": [
    "### Training and testing a classification model with scikit-learn"
   ]
  },
  {
   "cell_type": "markdown",
   "id": "02c6ce5a",
   "metadata": {},
   "source": [
    "Berra Karayel 0054477"
   ]
  },
  {
   "cell_type": "code",
   "execution_count": 1,
   "id": "fab567d2",
   "metadata": {},
   "outputs": [],
   "source": [
    "import pandas as pd\n",
    "import json"
   ]
  },
  {
   "cell_type": "code",
   "execution_count": 2,
   "id": "c2050fb8",
   "metadata": {},
   "outputs": [],
   "source": [
    "annotated_abortion = pd.read_csv(\"/Users/berrakarayel/Desktop/abortion annotation preprocessed.csv\")"
   ]
  },
  {
   "cell_type": "code",
   "execution_count": 3,
   "id": "99066a0e",
   "metadata": {},
   "outputs": [
    {
     "data": {
      "text/html": [
       "<div>\n",
       "<style scoped>\n",
       "    .dataframe tbody tr th:only-of-type {\n",
       "        vertical-align: middle;\n",
       "    }\n",
       "\n",
       "    .dataframe tbody tr th {\n",
       "        vertical-align: top;\n",
       "    }\n",
       "\n",
       "    .dataframe thead th {\n",
       "        text-align: right;\n",
       "    }\n",
       "</style>\n",
       "<table border=\"1\" class=\"dataframe\">\n",
       "  <thead>\n",
       "    <tr style=\"text-align: right;\">\n",
       "      <th></th>\n",
       "      <th>Unnamed: 0</th>\n",
       "      <th>number</th>\n",
       "      <th>date</th>\n",
       "      <th>id</th>\n",
       "      <th>Tweet</th>\n",
       "      <th>Sentiment</th>\n",
       "    </tr>\n",
       "  </thead>\n",
       "  <tbody>\n",
       "    <tr>\n",
       "      <th>0</th>\n",
       "      <td>0</td>\n",
       "      <td>1</td>\n",
       "      <td>2021-10-06 11:44:39+00:00</td>\n",
       "      <td>1.445717e+18</td>\n",
       "      <td>['kürtaj', 'konusunda', 'kararım', 'net', 'muh...</td>\n",
       "      <td>positive</td>\n",
       "    </tr>\n",
       "    <tr>\n",
       "      <th>1</th>\n",
       "      <td>1</td>\n",
       "      <td>2</td>\n",
       "      <td>2013-03-30 08:12:17+00:00</td>\n",
       "      <td>3.179122e+17</td>\n",
       "      <td>['neden', 'kürtaj', 've', 'son', 'çaremi']</td>\n",
       "      <td>neutral</td>\n",
       "    </tr>\n",
       "    <tr>\n",
       "      <th>2</th>\n",
       "      <td>2</td>\n",
       "      <td>3</td>\n",
       "      <td>2019-09-10 14:16:41+00:00</td>\n",
       "      <td>1.171427e+18</td>\n",
       "      <td>['bilime', 'de', 'el', 'attılari̇stanbul', 'i̇...</td>\n",
       "      <td>neutral</td>\n",
       "    </tr>\n",
       "    <tr>\n",
       "      <th>3</th>\n",
       "      <td>3</td>\n",
       "      <td>4</td>\n",
       "      <td>2012-06-02 11:52:08+00:00</td>\n",
       "      <td>2.088887e+17</td>\n",
       "      <td>['radikal', 'kürtaj', 'protestosu', 'bariyeri'...</td>\n",
       "      <td>neutral</td>\n",
       "    </tr>\n",
       "    <tr>\n",
       "      <th>4</th>\n",
       "      <td>4</td>\n",
       "      <td>5</td>\n",
       "      <td>2018-05-12 18:29:54+00:00</td>\n",
       "      <td>9.953705e+17</td>\n",
       "      <td>['kürtaj', 'yapılıyeah']</td>\n",
       "      <td>neutral</td>\n",
       "    </tr>\n",
       "    <tr>\n",
       "      <th>5</th>\n",
       "      <td>5</td>\n",
       "      <td>6</td>\n",
       "      <td>2021-03-18 18:47:42+00:00</td>\n",
       "      <td>1.372621e+18</td>\n",
       "      <td>['nedc', 'gibi', 'merkezler', 'tüp', 'bebek', ...</td>\n",
       "      <td>neutral</td>\n",
       "    </tr>\n",
       "    <tr>\n",
       "      <th>6</th>\n",
       "      <td>6</td>\n",
       "      <td>7</td>\n",
       "      <td>2016-04-06 06:51:45+00:00</td>\n",
       "      <td>7.176057e+17</td>\n",
       "      <td>['‘yasa', 'dışı', 'kürtaj’', 'soruşturmasında'...</td>\n",
       "      <td>neutral</td>\n",
       "    </tr>\n",
       "    <tr>\n",
       "      <th>7</th>\n",
       "      <td>7</td>\n",
       "      <td>8</td>\n",
       "      <td>2012-11-11 21:53:11+00:00</td>\n",
       "      <td>2.677468e+17</td>\n",
       "      <td>['tüm', 'gereksiz', 'insanlar', 'doğmuş', 'bu'...</td>\n",
       "      <td>neutral</td>\n",
       "    </tr>\n",
       "    <tr>\n",
       "      <th>8</th>\n",
       "      <td>8</td>\n",
       "      <td>9</td>\n",
       "      <td>2013-11-21 11:06:40+00:00</td>\n",
       "      <td>4.034796e+17</td>\n",
       "      <td>['kürtajkürtaj', 'isteyen', 'kadınlar', 'genel...</td>\n",
       "      <td>neutral</td>\n",
       "    </tr>\n",
       "    <tr>\n",
       "      <th>9</th>\n",
       "      <td>9</td>\n",
       "      <td>10</td>\n",
       "      <td>2012-05-26 12:29:19+00:00</td>\n",
       "      <td>2.063614e+17</td>\n",
       "      <td>['sezaryankürtajcinayetuludere', 'bu', 'nasıl'...</td>\n",
       "      <td>positive</td>\n",
       "    </tr>\n",
       "  </tbody>\n",
       "</table>\n",
       "</div>"
      ],
      "text/plain": [
       "   Unnamed: 0  number                       date            id  \\\n",
       "0           0       1  2021-10-06 11:44:39+00:00  1.445717e+18   \n",
       "1           1       2  2013-03-30 08:12:17+00:00  3.179122e+17   \n",
       "2           2       3  2019-09-10 14:16:41+00:00  1.171427e+18   \n",
       "3           3       4  2012-06-02 11:52:08+00:00  2.088887e+17   \n",
       "4           4       5  2018-05-12 18:29:54+00:00  9.953705e+17   \n",
       "5           5       6  2021-03-18 18:47:42+00:00  1.372621e+18   \n",
       "6           6       7  2016-04-06 06:51:45+00:00  7.176057e+17   \n",
       "7           7       8  2012-11-11 21:53:11+00:00  2.677468e+17   \n",
       "8           8       9  2013-11-21 11:06:40+00:00  4.034796e+17   \n",
       "9           9      10  2012-05-26 12:29:19+00:00  2.063614e+17   \n",
       "\n",
       "                                               Tweet Sentiment  \n",
       "0  ['kürtaj', 'konusunda', 'kararım', 'net', 'muh...  positive  \n",
       "1         ['neden', 'kürtaj', 've', 'son', 'çaremi']   neutral  \n",
       "2  ['bilime', 'de', 'el', 'attılari̇stanbul', 'i̇...   neutral  \n",
       "3  ['radikal', 'kürtaj', 'protestosu', 'bariyeri'...   neutral  \n",
       "4                           ['kürtaj', 'yapılıyeah']   neutral  \n",
       "5  ['nedc', 'gibi', 'merkezler', 'tüp', 'bebek', ...   neutral  \n",
       "6  ['‘yasa', 'dışı', 'kürtaj’', 'soruşturmasında'...   neutral  \n",
       "7  ['tüm', 'gereksiz', 'insanlar', 'doğmuş', 'bu'...   neutral  \n",
       "8  ['kürtajkürtaj', 'isteyen', 'kadınlar', 'genel...   neutral  \n",
       "9  ['sezaryankürtajcinayetuludere', 'bu', 'nasıl'...  positive  "
      ]
     },
     "execution_count": 3,
     "metadata": {},
     "output_type": "execute_result"
    }
   ],
   "source": [
    "annotated_abortion.head(10)"
   ]
  },
  {
   "cell_type": "code",
   "execution_count": 4,
   "id": "687c1c9b",
   "metadata": {},
   "outputs": [
    {
     "data": {
      "text/plain": [
       "Unnamed: 0    False\n",
       "number        False\n",
       "date          False\n",
       "id            False\n",
       "Tweet         False\n",
       "Sentiment      True\n",
       "dtype: bool"
      ]
     },
     "execution_count": 4,
     "metadata": {},
     "output_type": "execute_result"
    }
   ],
   "source": [
    "annotated_abortion.isna().any()"
   ]
  },
  {
   "cell_type": "code",
   "execution_count": 5,
   "id": "8600a55d",
   "metadata": {},
   "outputs": [],
   "source": [
    "annotated_abortion = annotated_abortion.dropna()"
   ]
  },
  {
   "cell_type": "code",
   "execution_count": 6,
   "id": "791fb06e",
   "metadata": {},
   "outputs": [
    {
     "data": {
      "text/plain": [
       "Unnamed: 0    False\n",
       "number        False\n",
       "date          False\n",
       "id            False\n",
       "Tweet         False\n",
       "Sentiment     False\n",
       "dtype: bool"
      ]
     },
     "execution_count": 6,
     "metadata": {},
     "output_type": "execute_result"
    }
   ],
   "source": [
    "annotated_abortion.isna().any()"
   ]
  },
  {
   "cell_type": "code",
   "execution_count": 7,
   "id": "b272cc2e",
   "metadata": {},
   "outputs": [],
   "source": [
    "all_tweets = pd.read_csv(\"/Users/berrakarayel/Desktop/kürtaj2.csv\")"
   ]
  },
  {
   "cell_type": "code",
   "execution_count": 8,
   "id": "f4abee9f",
   "metadata": {},
   "outputs": [
    {
     "data": {
      "text/html": [
       "<div>\n",
       "<style scoped>\n",
       "    .dataframe tbody tr th:only-of-type {\n",
       "        vertical-align: middle;\n",
       "    }\n",
       "\n",
       "    .dataframe tbody tr th {\n",
       "        vertical-align: top;\n",
       "    }\n",
       "\n",
       "    .dataframe thead th {\n",
       "        text-align: right;\n",
       "    }\n",
       "</style>\n",
       "<table border=\"1\" class=\"dataframe\">\n",
       "  <thead>\n",
       "    <tr style=\"text-align: right;\">\n",
       "      <th></th>\n",
       "      <th>Unnamed: 0</th>\n",
       "      <th>date</th>\n",
       "      <th>rawContent</th>\n",
       "      <th>id</th>\n",
       "    </tr>\n",
       "  </thead>\n",
       "  <tbody>\n",
       "    <tr>\n",
       "      <th>0</th>\n",
       "      <td>0</td>\n",
       "      <td>2022-05-11 21:49:20+00:00</td>\n",
       "      <td>ABD Yüksek Mahkemesi kürtajı serbest bırakan i...</td>\n",
       "      <td>1524506970434289665</td>\n",
       "    </tr>\n",
       "    <tr>\n",
       "      <th>1</th>\n",
       "      <td>1</td>\n",
       "      <td>2022-05-11 21:46:48+00:00</td>\n",
       "      <td>Senato’da Kürtaj Hakkını Koruma Oylaması https...</td>\n",
       "      <td>1524506332228997120</td>\n",
       "    </tr>\n",
       "    <tr>\n",
       "      <th>2</th>\n",
       "      <td>2</td>\n",
       "      <td>2022-05-11 21:39:03+00:00</td>\n",
       "      <td>@nasuhbektas Bunlar hep kürtaj yasağı yüzünden...</td>\n",
       "      <td>1524504382892613632</td>\n",
       "    </tr>\n",
       "    <tr>\n",
       "      <th>3</th>\n",
       "      <td>3</td>\n",
       "      <td>2022-05-11 21:38:15+00:00</td>\n",
       "      <td>Bugün, Kadın Sağlığını Koruma Yasasını #RoeVWa...</td>\n",
       "      <td>1524504180303572993</td>\n",
       "    </tr>\n",
       "    <tr>\n",
       "      <th>4</th>\n",
       "      <td>4</td>\n",
       "      <td>2022-05-11 21:27:03+00:00</td>\n",
       "      <td>El Salvador'da Kürtaj Olan Bir Kadın, Cinayet ...</td>\n",
       "      <td>1524501361940910080</td>\n",
       "    </tr>\n",
       "    <tr>\n",
       "      <th>5</th>\n",
       "      <td>5</td>\n",
       "      <td>2022-05-11 21:17:16+00:00</td>\n",
       "      <td>Komik veya Grafik, Kürtaj Yüzeyi Hakkında Star...</td>\n",
       "      <td>1524498900501078016</td>\n",
       "    </tr>\n",
       "    <tr>\n",
       "      <th>6</th>\n",
       "      <td>6</td>\n",
       "      <td>2022-05-11 21:12:50+00:00</td>\n",
       "      <td>Anayasa Mahkemesi’nin #kürtaj hakkını garanti ...</td>\n",
       "      <td>1524497783356547072</td>\n",
       "    </tr>\n",
       "    <tr>\n",
       "      <th>7</th>\n",
       "      <td>7</td>\n",
       "      <td>2022-05-11 21:12:11+00:00</td>\n",
       "      <td>Yüksek Mahkeme kürtaj hakkını garanti altına a...</td>\n",
       "      <td>1524497621041225737</td>\n",
       "    </tr>\n",
       "    <tr>\n",
       "      <th>8</th>\n",
       "      <td>8</td>\n",
       "      <td>2022-05-11 21:11:00+00:00</td>\n",
       "      <td>El Salvador’da #kürtaj yaptırmak durumunda kal...</td>\n",
       "      <td>1524497322691940352</td>\n",
       "    </tr>\n",
       "    <tr>\n",
       "      <th>9</th>\n",
       "      <td>9</td>\n",
       "      <td>2022-05-11 20:42:55+00:00</td>\n",
       "      <td>Senato’da Kürtaj Hakkını Koruma Oylaması  http...</td>\n",
       "      <td>1524490255440744449</td>\n",
       "    </tr>\n",
       "  </tbody>\n",
       "</table>\n",
       "</div>"
      ],
      "text/plain": [
       "   Unnamed: 0                       date  \\\n",
       "0           0  2022-05-11 21:49:20+00:00   \n",
       "1           1  2022-05-11 21:46:48+00:00   \n",
       "2           2  2022-05-11 21:39:03+00:00   \n",
       "3           3  2022-05-11 21:38:15+00:00   \n",
       "4           4  2022-05-11 21:27:03+00:00   \n",
       "5           5  2022-05-11 21:17:16+00:00   \n",
       "6           6  2022-05-11 21:12:50+00:00   \n",
       "7           7  2022-05-11 21:12:11+00:00   \n",
       "8           8  2022-05-11 21:11:00+00:00   \n",
       "9           9  2022-05-11 20:42:55+00:00   \n",
       "\n",
       "                                          rawContent                   id  \n",
       "0  ABD Yüksek Mahkemesi kürtajı serbest bırakan i...  1524506970434289665  \n",
       "1  Senato’da Kürtaj Hakkını Koruma Oylaması https...  1524506332228997120  \n",
       "2  @nasuhbektas Bunlar hep kürtaj yasağı yüzünden...  1524504382892613632  \n",
       "3  Bugün, Kadın Sağlığını Koruma Yasasını #RoeVWa...  1524504180303572993  \n",
       "4  El Salvador'da Kürtaj Olan Bir Kadın, Cinayet ...  1524501361940910080  \n",
       "5  Komik veya Grafik, Kürtaj Yüzeyi Hakkında Star...  1524498900501078016  \n",
       "6  Anayasa Mahkemesi’nin #kürtaj hakkını garanti ...  1524497783356547072  \n",
       "7  Yüksek Mahkeme kürtaj hakkını garanti altına a...  1524497621041225737  \n",
       "8  El Salvador’da #kürtaj yaptırmak durumunda kal...  1524497322691940352  \n",
       "9  Senato’da Kürtaj Hakkını Koruma Oylaması  http...  1524490255440744449  "
      ]
     },
     "execution_count": 8,
     "metadata": {},
     "output_type": "execute_result"
    }
   ],
   "source": [
    "all_tweets.head(10)"
   ]
  },
  {
   "cell_type": "code",
   "execution_count": 9,
   "id": "f9657803",
   "metadata": {},
   "outputs": [
    {
     "data": {
      "text/plain": [
       "Unnamed: 0    False\n",
       "date          False\n",
       "rawContent    False\n",
       "id            False\n",
       "dtype: bool"
      ]
     },
     "execution_count": 9,
     "metadata": {},
     "output_type": "execute_result"
    }
   ],
   "source": [
    "all_tweets.isna().any()"
   ]
  },
  {
   "cell_type": "code",
   "execution_count": 10,
   "id": "760c3009",
   "metadata": {},
   "outputs": [],
   "source": [
    "all_tweets.rename(columns = {'rawContent':'Tweet'}, inplace = True)"
   ]
  },
  {
   "cell_type": "code",
   "execution_count": 11,
   "id": "8598f371",
   "metadata": {},
   "outputs": [
    {
     "data": {
      "text/plain": [
       "Index(['Unnamed: 0', 'date', 'Tweet', 'id'], dtype='object')"
      ]
     },
     "execution_count": 11,
     "metadata": {},
     "output_type": "execute_result"
    }
   ],
   "source": [
    "all_tweets.columns"
   ]
  },
  {
   "cell_type": "markdown",
   "id": "8a834f04",
   "metadata": {},
   "source": [
    "### CountVectorizer for text classification"
   ]
  },
  {
   "cell_type": "code",
   "execution_count": 12,
   "id": "fd25984e",
   "metadata": {},
   "outputs": [],
   "source": [
    "# Import the necessary modules\n",
    "from sklearn.feature_extraction.text import CountVectorizer\n",
    "from sklearn.model_selection import train_test_split"
   ]
  },
  {
   "cell_type": "code",
   "execution_count": 13,
   "id": "78391652",
   "metadata": {},
   "outputs": [
    {
     "name": "stdout",
     "output_type": "stream",
     "text": [
      "['06upt2t5', '06xfn7nnql', '06ycseam', '06yld06', '06zkayxx1q', '07', '0701thexiahtic', '070mzicpt6', '074', '074fedri', '075oulog28', '076ocgdtvv', '078', '078g4diqen', '0799tggcwp', '07agxxx', '07ayla35', '07bjk5dm95', '07bl7lvvn4', '07bod0b8', '07bv1clr', '07ckyrt8yh', '07dgdu', '07drejali', '07fabercastell', '07fmjhdz', '07iihc1g', '07imxeqf3s', '07jb07', '07jlduda', '07q9eowt', '07r3odmgyy', '07rquaresma', '07salis', '07szj1ma20', '07uc', '07uo9zojxl', '07xab5vhbl', '07xda6moju', '07xg60wa', '07zamqyztp', '08', '080', '08002116444', '081', '082iphxcbf', '084014uedg', '086eltko', '088', '08ao5yicsc']\n"
     ]
    }
   ],
   "source": [
    "count_vectorizer = CountVectorizer()\n",
    "\n",
    "count_train = count_vectorizer.fit_transform(all_tweets['Tweet'].values)\n",
    "\n",
    "print(count_vectorizer.get_feature_names()[250:300])"
   ]
  },
  {
   "cell_type": "code",
   "execution_count": 14,
   "id": "920a46de",
   "metadata": {},
   "outputs": [
    {
     "name": "stdout",
     "output_type": "stream",
     "text": [
      "['aaa', 'aabitürk', 'aatürk', 'ab', 'abartmaya', 'abartmayın', 'abarttı', 'abartıyorsundur', 'abazan', 'abd']\n"
     ]
    }
   ],
   "source": [
    "# Create a series to store the labels: y\n",
    "y = annotated_abortion.Sentiment\n",
    "\n",
    "X_train = annotated_abortion['Tweet']\n",
    "y_train = annotated_abortion['Sentiment']\n",
    "X_test = all_tweets['Tweet']\n",
    "\n",
    "# Initialize a CountVectorizer object: count_vectorizer\n",
    "count_vectorizer = CountVectorizer(stop_words='english')\n",
    "\n",
    "# Transform the training data using only the 'text' column values: count_train \n",
    "count_train = count_vectorizer.fit_transform(X_train)\n",
    "\n",
    "# Transform the test data using only the 'text' column values: count_test \n",
    "count_test = count_vectorizer.transform(X_test)\n",
    "\n",
    "# Print the first 10 features of the count_vectorizer\n",
    "print(count_vectorizer.get_feature_names()[:10])"
   ]
  },
  {
   "cell_type": "markdown",
   "id": "a4c90f55",
   "metadata": {},
   "source": [
    "#### Logistic Regression with scikit-learn\n"
   ]
  },
  {
   "cell_type": "code",
   "execution_count": 15,
   "id": "dde15593",
   "metadata": {},
   "outputs": [],
   "source": [
    "from sklearn.linear_model import LogisticRegression\n",
    "from sklearn import linear_model\n",
    "from sklearn import metrics"
   ]
  },
  {
   "cell_type": "code",
   "execution_count": 16,
   "id": "f70e29d5",
   "metadata": {},
   "outputs": [
    {
     "ename": "NameError",
     "evalue": "name 'y_test' is not defined",
     "output_type": "error",
     "traceback": [
      "\u001b[0;31m---------------------------------------------------------------------------\u001b[0m",
      "\u001b[0;31mNameError\u001b[0m                                 Traceback (most recent call last)",
      "Cell \u001b[0;32mIn [16], line 5\u001b[0m\n\u001b[1;32m      3\u001b[0m log_reg\u001b[38;5;241m.\u001b[39mfit(count_train, y_train)\n\u001b[1;32m      4\u001b[0m pred \u001b[38;5;241m=\u001b[39m log_reg\u001b[38;5;241m.\u001b[39mpredict(count_test)\n\u001b[0;32m----> 5\u001b[0m metrics\u001b[38;5;241m.\u001b[39maccuracy_score(\u001b[43my_test\u001b[49m, pred)\n",
      "\u001b[0;31mNameError\u001b[0m: name 'y_test' is not defined"
     ]
    }
   ],
   "source": [
    "log_reg = LogisticRegression()\n",
    "\n",
    "log_reg.fit(count_train, y_train)\n",
    "pred = log_reg.predict(count_test)\n",
    "metrics.accuracy_score(y_test, pred)"
   ]
  },
  {
   "cell_type": "code",
   "execution_count": 17,
   "id": "bc38808f",
   "metadata": {},
   "outputs": [
    {
     "ename": "NameError",
     "evalue": "name 'y_test' is not defined",
     "output_type": "error",
     "traceback": [
      "\u001b[0;31m---------------------------------------------------------------------------\u001b[0m",
      "\u001b[0;31mNameError\u001b[0m                                 Traceback (most recent call last)",
      "Cell \u001b[0;32mIn [17], line 1\u001b[0m\n\u001b[0;32m----> 1\u001b[0m metrics\u001b[38;5;241m.\u001b[39mconfusion_matrix(\u001b[43my_test\u001b[49m, pred, labels\u001b[38;5;241m=\u001b[39m[\u001b[38;5;124m'\u001b[39m\u001b[38;5;124mpositive\u001b[39m\u001b[38;5;124m'\u001b[39m, \u001b[38;5;124m'\u001b[39m\u001b[38;5;124mneutral\u001b[39m\u001b[38;5;124m'\u001b[39m, \u001b[38;5;124m\"\u001b[39m\u001b[38;5;124mnegative\u001b[39m\u001b[38;5;124m\"\u001b[39m])\n",
      "\u001b[0;31mNameError\u001b[0m: name 'y_test' is not defined"
     ]
    }
   ],
   "source": [
    "metrics.confusion_matrix(y_test, pred, labels=['positive', 'neutral', \"negative\"])"
   ]
  },
  {
   "cell_type": "code",
   "execution_count": 18,
   "id": "27e5fea6",
   "metadata": {},
   "outputs": [
    {
     "data": {
      "text/plain": [
       "array(['neutral', 'neutral', 'neutral', ..., 'neutral', 'positive',\n",
       "       'neutral'], dtype=object)"
      ]
     },
     "execution_count": 18,
     "metadata": {},
     "output_type": "execute_result"
    }
   ],
   "source": [
    "pred"
   ]
  },
  {
   "cell_type": "code",
   "execution_count": 19,
   "id": "a4ba5055",
   "metadata": {},
   "outputs": [],
   "source": [
    "df = pd.concat([X_test.reset_index(drop=True), pd.Series(pred, name=\"Predictions\")], axis=1)\n",
    "df.to_csv(\"predictions.csv\", index=False)"
   ]
  },
  {
   "cell_type": "code",
   "execution_count": null,
   "id": "f92007cc",
   "metadata": {},
   "outputs": [],
   "source": []
  }
 ],
 "metadata": {
  "kernelspec": {
   "display_name": "Python 3 (ipykernel)",
   "language": "python",
   "name": "python3"
  },
  "language_info": {
   "codemirror_mode": {
    "name": "ipython",
    "version": 3
   },
   "file_extension": ".py",
   "mimetype": "text/x-python",
   "name": "python",
   "nbconvert_exporter": "python",
   "pygments_lexer": "ipython3",
   "version": "3.8.8"
  }
 },
 "nbformat": 4,
 "nbformat_minor": 5
}
